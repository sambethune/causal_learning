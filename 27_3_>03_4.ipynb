{
  "nbformat": 4,
  "nbformat_minor": 0,
  "metadata": {
    "colab": {
      "name": "27/3->03/4.ipynb",
      "provenance": [],
      "authorship_tag": "ABX9TyOp0bh7VfL2CyebexgQXHRl",
      "include_colab_link": true
    },
    "kernelspec": {
      "name": "python3",
      "display_name": "Python 3"
    }
  },
  "cells": [
    {
      "cell_type": "markdown",
      "metadata": {
        "id": "view-in-github",
        "colab_type": "text"
      },
      "source": [
        "<a href=\"https://colab.research.google.com/github/sambethune/causal_learning/blob/master/27_3_%3E03_4.ipynb\" target=\"_parent\"><img src=\"https://colab.research.google.com/assets/colab-badge.svg\" alt=\"Open In Colab\"/></a>"
      ]
    },
    {
      "cell_type": "markdown",
      "metadata": {
        "id": "5cN3nWMsMAN0",
        "colab_type": "text"
      },
      "source": [
        "Reading Pearl et al's *Primer* from cover to cover took me well into this week. Given the grounding in constraint based methods and SCM's this allowed for however, I consider it to have been time well spent. Little was discussed with regards to causal discovery algorithms with the exception of a basic outline of the (broad) PC algorithm family.\n",
        "\n",
        "Upon finishing the book, I also revisited Peters' notes and finished them. Just prior to the end of the week, I read over Kalainathan's white paper on CDT and recognised the need to further my knowledge of causal discovery algorithms."
      ]
    }
  ]
}