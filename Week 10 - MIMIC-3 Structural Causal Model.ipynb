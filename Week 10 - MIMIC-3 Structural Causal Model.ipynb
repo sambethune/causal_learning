{
  "nbformat": 4,
  "nbformat_minor": 0,
  "metadata": {
    "colab": {
      "name": "Week 10 - MIMIC-3 Structural Causal Model.ipynb",
      "provenance": [],
      "collapsed_sections": [
        "LsrR1eUIbdE8"
      ],
      "authorship_tag": "ABX9TyMvzqLvfjg4HR3jBeQbgn5g"
    },
    "kernelspec": {
      "name": "python3",
      "display_name": "Python 3"
    }
  },
  "cells": [
    {
      "cell_type": "markdown",
      "metadata": {
        "id": "PxpdGo3-YrkB",
        "colab_type": "text"
      },
      "source": [
        "## MIMIC-3 Analysis: More Feature Engineering, SCM's"
      ]
    },
    {
      "cell_type": "markdown",
      "metadata": {
        "id": "gAat36Offom4",
        "colab_type": "text"
      },
      "source": [
        "Using the tools we developed last week we will do more feature engineering before developing a string of SCM's by the threshold hyperparameter. We note graphs are formatted for inclusion in our final report."
      ]
    },
    {
      "cell_type": "markdown",
      "metadata": {
        "id": "LsrR1eUIbdE8",
        "colab_type": "text"
      },
      "source": [
        "## Configuration"
      ]
    },
    {
      "cell_type": "markdown",
      "metadata": {
        "id": "8tf1-Wmt0bWr",
        "colab_type": "text"
      },
      "source": [
        "These cells remain largely the same as last week, although we will change the encoding cell later on."
      ]
    },
    {
      "cell_type": "code",
      "metadata": {
        "id": "dCbcHwGvZEt5",
        "colab_type": "code",
        "colab": {}
      },
      "source": [
        "from google.colab import drive, files\n",
        "drive.mount('/content/drive')"
      ],
      "execution_count": 0,
      "outputs": []
    },
    {
      "cell_type": "code",
      "metadata": {
        "id": "zIqbeLi6ZxzU",
        "colab_type": "code",
        "colab": {}
      },
      "source": [
        "% cd /content/drive/My Drive/SCIE3250 Journal/Week 9"
      ],
      "execution_count": 0,
      "outputs": []
    },
    {
      "cell_type": "code",
      "metadata": {
        "id": "1CEXB9adZWQC",
        "colab_type": "code",
        "colab": {}
      },
      "source": [
        "# Need to restart runtime following this install\n",
        "! pip install causalnex\n",
        "! pip install --upgrade pandas==0.24.0  # We require this version of pandas"
      ],
      "execution_count": 0,
      "outputs": []
    },
    {
      "cell_type": "code",
      "metadata": {
        "id": "z2QUiAyXWlND",
        "colab_type": "code",
        "colab": {}
      },
      "source": [
        "import warnings\n",
        "warnings.filterwarnings('ignore')"
      ],
      "execution_count": 0,
      "outputs": []
    },
    {
      "cell_type": "code",
      "metadata": {
        "id": "QzhKxUQ2ZhNX",
        "colab_type": "code",
        "colab": {}
      },
      "source": [
        "files.upload()"
      ],
      "execution_count": 0,
      "outputs": []
    },
    {
      "cell_type": "code",
      "metadata": {
        "id": "SVBVO7vBZ3yL",
        "colab_type": "code",
        "colab": {}
      },
      "source": [
        "import pandas as pd\n",
        "df = pd.read_csv('mimic_day_blocks_ARDS2.csv', delimiter=',')"
      ],
      "execution_count": 0,
      "outputs": []
    },
    {
      "cell_type": "markdown",
      "metadata": {
        "id": "abshi14jtBTt",
        "colab_type": "text"
      },
      "source": [
        "Again we digitalise our discrete variables and create a copy dataframe we are free to edit destructively. This time we do not digitalise \\``CHARTDATE`\\` however; we intend to use it later on."
      ]
    },
    {
      "cell_type": "code",
      "metadata": {
        "id": "5w2OXiEYsfOj",
        "colab_type": "code",
        "colab": {}
      },
      "source": [
        "import numpy as np\n",
        "df_enc = df.copy()\n",
        "\n",
        "non_numeric_columns = ['GENDER', 'AGE_INTERVALS']\n",
        "\n",
        "from sklearn.preprocessing import LabelEncoder\n",
        "\n",
        "le = LabelEncoder()\n",
        "for col in non_numeric_columns:\n",
        "    df_enc[col] = le.fit_transform(df_enc[col])"
      ],
      "execution_count": 0,
      "outputs": []
    },
    {
      "cell_type": "markdown",
      "metadata": {
        "id": "YHKvuTiLBoJd",
        "colab_type": "text"
      },
      "source": [
        "## Feature Engineering, Imputation"
      ]
    },
    {
      "cell_type": "markdown",
      "metadata": {
        "id": "ZgVuWaa46ux8",
        "colab_type": "text"
      },
      "source": [
        "We recall our procedure for preparing \\``df_e`\\` from last week:\n",
        "* Run the copy and drop cell.\n",
        "* If adding time series, run \\``df_e = add_series_list([the series list])`\\`.\n",
        "* Run \\``df_e = impute(df_e)`\\`.\n",
        "* Run the discretize and drop cell."
      ]
    },
    {
      "cell_type": "code",
      "metadata": {
        "id": "-3dRzUQF6nHc",
        "colab_type": "code",
        "colab": {}
      },
      "source": [
        "df_e = df_enc.copy()\n",
        "drops = ['PaO2', 'FiO2', 'Tidal_ml', 'Plateau_Pressure_cmH2O', \\\n",
        "  'Total_PEEP_cmH2O', 'AGE_INTERVALS']\n",
        "df_e = df_e.drop(columns=drops)\n",
        "\n",
        "df_e = add_series_list(['Creatinine', 'PaO2/FiO2', 'RSC', 'HCO3', 'PaCO2'])\n",
        "df_e = impute(df_e)\n",
        "\n",
        "drops = ['HADM_ID', 'CHARTDATE']\n",
        "df_e = df_e.drop(columns=drops)"
      ],
      "execution_count": 0,
      "outputs": []
    },
    {
      "cell_type": "markdown",
      "metadata": {
        "id": "tXQ31Ml96902",
        "colab_type": "text"
      },
      "source": [
        "This week however, we would like to alter our features. For easy scaling and imputation we will enact our changes on \\``df_enc`\\`, remembering to add extra time series in the \\``add_series_list`\\` step. We also outline our intention to change to an object-oriented framework at a later stage given things take a little more scripting (ie reassignments) than necessary! For now we will continue with our procedural method however. As for last week, we describe our feature engineering steps in Latex for easy inclusion in our report."
      ]
    },
    {
      "cell_type": "markdown",
      "metadata": {
        "id": "Y3YT5W9G8YlJ",
        "colab_type": "text"
      },
      "source": [
        "% LATEX BEGINNING\n",
        "\n",
        "In addition to temporal analysis we also wanted to consider two parameter interactions, between BMI and tidal volume as well as driving pressure. In particular we were interested in the effects of tidal volume and driving pressure relative to BMI. Accordingly we created two new parameters, $\\frac{V_t}{BMI}$ and $\\frac{P_d}{BMI}$ for which we then added temporal parameters, scaled and imputed as previously described. We also added driving pressure as a parameter for comparison with RSC. Finally we removed obsolete parameters as described in \\textit{Table 2}. As a result our final dataset contained 1307 imputations or still around 1.2\\% of the total values.\n",
        "\n",
        "    \\begin{longtable}{lp{10cm}}\n",
        "        \\toprule\n",
        "        Parameter Group & Parameters\\\\\n",
        "        \\midrule\n",
        "        Original & \\url{ARDS}, \\url{BMI}, \\url{PaO2/FiO2}, \\url{Tidal_ml}, \\url{Plateau_Pressure_cmH2O},\n",
        "        \\url{Total_PEEP_cmH2O}, \\url{Driving_Pressure}, \\url{HCO3},  \\url{PaCO2}, \\url{Creatinine},\n",
        "        \\url{AGE}, \\url{SEX}, \\url{HADM_IM}, \\url{CHARTDATE}\\\\\n",
        "        \\midrule\n",
        "        Created & \\url{Driving_Pressure}, \\url{Tidal_ml/BMI}, \\url{Driving_Pressure/BMI}\\\\\n",
        "        \\midrule\n",
        "        Temporal & \\url{PaO2/FiO2_Change}, \\url{RSC_Change}, \\url{Driving_Pressure_Change},\n",
        "        \\url{HCO3_Change}, \\url{PaCO2_Change}, \\url{Creatinine_Change}\\\\\n",
        "        \\midrule\n",
        "        Removed & \\url{Tidal_ml}, \\url{Plateau_Pressure_cmH2O}, \\url{Total_PEEP_cmH2O}\\\\\n",
        "        \\midrule\n",
        "        Final & \\url{ARDS}, \\url{BMI}, \\url{PaO2/FiO2}, \\url{Driving_Pressure}, \\url{HCO3},  \\url{PaCO2},\n",
        "        \\url{Creatinine}, \\url{Driving_Pressure}, \\url{Tidal_ml/BMI}, \\url{Driving_Pressure/BMI},\n",
        "        \\url{PaO2/FiO2_Change}, \\url{RSC_Change}, \\url{Driving_Pressure_Change}, \\url{HCO3_Change},\n",
        "        \\url{PaCO2_Change}, \\url{Creatinine_Change}, \\url{AGE}, \\url{SEX}, \\url{HADM_IM}, \\url{CHARTDATE}\\\\\n",
        "        \\bottomrule\n",
        "        \\caption{Parameters Throughout Data Preparation}\n",
        "    \\end{longtable}\n",
        "\n",
        "\n",
        "% LATEX END"
      ]
    },
    {
      "cell_type": "code",
      "metadata": {
        "id": "ROh-i4tjJbmp",
        "colab_type": "code",
        "colab": {}
      },
      "source": [
        "import numpy as np\n",
        "df_enc = df.copy()\n",
        "\n",
        "# Encode discrete variables\n",
        "non_numeric_columns = ['GENDER', 'AGE_INTERVALS']\n",
        "\n",
        "from sklearn.preprocessing import LabelEncoder\n",
        "\n",
        "le = LabelEncoder()\n",
        "for col in non_numeric_columns:\n",
        "    df_enc[col] = le.fit_transform(df_enc[col])\n",
        "\n",
        "# Create additional features\n",
        "df_enc['Driving_Pressure'] = df_enc['Plateau_Pressure_cmH2O'] - \\\n",
        "  df_enc['Total_PEEP_cmH2O']\n",
        "df_enc['Tidal_ml/BMI'] = df_enc['Tidal_ml']/df_enc['BMI']\n",
        "df_enc['Driving_Pressure/BMI'] = df_enc['Driving_Pressure']/df_enc['BMI']\n",
        "\n",
        "# Remove obsolete features\n",
        "drops = ['PaO2', 'FiO2', 'Tidal_ml', 'Plateau_Pressure_cmH2O', \\\n",
        "  'Total_PEEP_cmH2O', 'AGE_INTERVALS']\n",
        "df_enc = df_enc.drop(columns=drops)"
      ],
      "execution_count": 0,
      "outputs": []
    },
    {
      "cell_type": "code",
      "metadata": {
        "id": "0kReZBRIglil",
        "colab_type": "code",
        "colab": {}
      },
      "source": [
        "def add_series_list(col_list, df=df_e):\n",
        "  # Find the time series for a list of parameters and add to df_e\n",
        "  for col in col_list:\n",
        "    df[col + ' Change'] = find_series(col)\n",
        "\n",
        "  return df.dropna()"
      ],
      "execution_count": 0,
      "outputs": []
    },
    {
      "cell_type": "code",
      "metadata": {
        "id": "QQGarsKwZ031",
        "colab_type": "code",
        "colab": {}
      },
      "source": [
        "def find_series(col, df=df_e):\n",
        "  # Find daily flux in a given parameter\n",
        "  diff_col = np.zeros(len(df[col]))\n",
        "  diff_col[0] = np.nan\n",
        "  diff_col = pd.Series(diff_col)\n",
        "  \n",
        "\n",
        "  for i in range(len(diff_col)-1, -1, -1):\n",
        "\n",
        "    if i != 0:\n",
        "\n",
        "      if df['HADM_ID'][i] == df['HADM_ID'][i-1]:\n",
        "        diff_col[i] = df[col][i] - df[col][i-1]\n",
        "\n",
        "      else:\n",
        "        diff_col[i] = np.nan\n",
        "\n",
        "  return diff_col"
      ],
      "execution_count": 0,
      "outputs": []
    },
    {
      "cell_type": "code",
      "metadata": {
        "id": "nDPPdvzwZBKS",
        "colab_type": "code",
        "colab": {}
      },
      "source": [
        " def impute(df_e):\n",
        "  # Replace infinities with nan\n",
        "  df_e.replace([-np.inf, np.inf], np.nan, inplace=True)\n",
        "\n",
        "  # Do not remove zeroes from discrete variables\n",
        "  cols_disc = ['HADM_ID', 'CHARTDATE', 'ARDS', 'GENDER', 'AGE_INTERVALS']\n",
        "  cols_cont = [i for i in df_e.columns if i not in cols_disc]\n",
        "\n",
        "  from sklearn.preprocessing import scale\n",
        "\n",
        "  # Replace outliers 3 standard devs or more away with nan, scale cont vars\n",
        "  for col in cols_cont:\n",
        "    df_e[col] = df_e[col].mask(df_e[col].values - df_e[col].mean() > \\\n",
        "      3*df_e[col].std(), other=np.nan)\n",
        "    df_e[col] = scale(df_e[col])\n",
        "\n",
        "  # Impute all nan with K clustering, not on variables that don't make sense\n",
        "  from sklearn.impute import KNNImputer\n",
        "\n",
        "  # Remove, store irrelevant columns\n",
        "  store_vars = ['HADM_ID', 'CHARTDATE']\n",
        "  store_inds = [df_e.columns.get_loc(i) for i in store_vars]\n",
        "  df_store = df_e[store_vars]\n",
        "  df_e = df_e.drop(columns=store_vars)\n",
        "\n",
        "  # Copy df_e to check how many values are imputed\n",
        "  df_check = df_e.copy()\n",
        "\n",
        "  # Store parameter labels of df_e\n",
        "  my_columns = df_e.columns\n",
        "\n",
        "  # Impute over relevant columns\n",
        "  imp = KNNImputer(missing_values=np.nan)\n",
        "  df_e = pd.DataFrame(imp.fit_transform(df_e), columns=my_columns)\n",
        "\n",
        "  # Count imputations\n",
        "  num_imp = df_check.size - np.sum(np.sum(df_e.values==df_check.values))\n",
        "\n",
        "  # Restore irrelevant columns in original order for ease of viewing\n",
        "  for i in range(len(store_vars)):\n",
        "    df_e.insert(store_inds[i], store_vars[i], df_store[store_vars[i]])\n",
        "\n",
        "  return df_e"
      ],
      "execution_count": 0,
      "outputs": []
    },
    {
      "cell_type": "markdown",
      "metadata": {
        "id": "ui1atWGjMJpN",
        "colab_type": "text"
      },
      "source": [
        "As a result of our changes, our process is now as follows. To reiterate, we intend to switch our functional approach to object-oriented at a later stage for easier presentation to an audience.\n",
        "\n",
        "---\n",
        "\n"
      ]
    },
    {
      "cell_type": "code",
      "metadata": {
        "id": "481iopPGMM5M",
        "colab_type": "code",
        "colab": {}
      },
      "source": [
        "df_e = df_enc.copy()\n",
        "\n",
        "df_e = add_series_list(['Creatinine', 'PaO2/FiO2', 'RSC', 'HCO3', 'PaCO2', \\\n",
        "  'Driving_Pressure', 'Tidal_ml/BMI', 'Driving_Pressure/BMI'])\n",
        "df_e = impute(df_e)\n",
        "\n",
        "drops = ['HADM_ID', 'CHARTDATE']\n",
        "df_e = df_e.drop(columns=drops)"
      ],
      "execution_count": 0,
      "outputs": []
    },
    {
      "cell_type": "markdown",
      "metadata": {
        "id": "tsZ33CGqth4G",
        "colab_type": "text"
      },
      "source": [
        "For the creation of our Bayesian network we will require discretised, classified data; we create the following classifier cell designed to be run after imputation."
      ]
    },
    {
      "cell_type": "markdown",
      "metadata": {
        "id": "1GNgUBX8opz_",
        "colab_type": "text"
      },
      "source": [
        "## SCM"
      ]
    },
    {
      "cell_type": "markdown",
      "metadata": {
        "id": "T1cxfU6Y0LUi",
        "colab_type": "text"
      },
      "source": [
        "Our aim here will be to develop some interesting SCM's to analyse more closely next week. We will also aim to investigate the effects of the various features we have added."
      ]
    },
    {
      "cell_type": "code",
      "metadata": {
        "id": "qT7Rk4TipZJB",
        "colab_type": "code",
        "colab": {}
      },
      "source": [
        "! apt-get install -y graphviz-dev  # We require the developer version\n",
        "! pip install pygraphviz"
      ],
      "execution_count": 0,
      "outputs": []
    },
    {
      "cell_type": "code",
      "metadata": {
        "id": "3fpq_8oQpLez",
        "colab_type": "code",
        "colab": {}
      },
      "source": [
        "from IPython.display import Image\n",
        "from causalnex.plots import plot_structure, NODE_STYLE, EDGE_STYLE\n",
        "from causalnex.structure.notears import from_pandas"
      ],
      "execution_count": 0,
      "outputs": []
    },
    {
      "cell_type": "markdown",
      "metadata": {
        "id": "doKCFfQCpnHw",
        "colab_type": "text"
      },
      "source": [
        "First of all we try without time series. Not intending to progress to a Bayesian network this week, we don't need to run the full discretiser cell."
      ]
    },
    {
      "cell_type": "markdown",
      "metadata": {
        "id": "Yz5PwMzD_grL",
        "colab_type": "text"
      },
      "source": [
        "From here on in, all graph commentary will be in Latex."
      ]
    },
    {
      "cell_type": "markdown",
      "metadata": {
        "id": "Ek_elwAT_zEE",
        "colab_type": "text"
      },
      "source": [
        "% LATEX BEGINNING\n",
        "\n",
        "We begin exploring our dataset by developing SCM's excluding temporal parameters. From here on in we forbid all source nodes, \\url{GENDER}, \\url{AGE}, from being children of any other node and will delete trivial relations between created parameters and their components such as \\url{Driving_Pressure/BMI} $\\rightarrow$ \\url{Driving_Pressure} and \\url{Driving_Pressure} $\\rightarrow$ \\url{RSC}. Additionally we ban \\url{ARDS} from being a parent of any other node.\n",
        "\n",
        "% LATEX END"
      ]
    },
    {
      "cell_type": "code",
      "metadata": {
        "id": "zxsLG4TPqMws",
        "colab_type": "code",
        "colab": {}
      },
      "source": [
        "df_e = df_enc.copy()\n",
        "\n",
        "df_e = impute(df_e)\n",
        "\n",
        "drops = ['HADM_ID', 'CHARTDATE']\n",
        "df_e = df_e.drop(columns=drops)"
      ],
      "execution_count": 0,
      "outputs": []
    },
    {
      "cell_type": "code",
      "metadata": {
        "id": "m1yktN-Woxge",
        "colab_type": "code",
        "colab": {}
      },
      "source": [
        "sm = from_pandas(df_e, tabu_child_nodes=['GENDER', 'AGE', 'BMI'], \\\n",
        "  tabu_parent_nodes=['ARDS'])"
      ],
      "execution_count": 0,
      "outputs": []
    },
    {
      "cell_type": "code",
      "metadata": {
        "id": "MD8Zdq4OYekM",
        "colab_type": "code",
        "outputId": "40e7ebf9-1f3e-4cc7-8f50-03b1d2551f68",
        "colab": {
          "base_uri": "https://localhost:8080/",
          "height": 181
        }
      },
      "source": [
        "sm_t = sm.copy()\n",
        "sm_t.remove_edges_below_threshold(0.5)\n",
        "# We know that these are isolates or undesirable so remove them for viewing\n",
        "sm_t.remove_nodes_from(['RSC', 'PaO2/FiO2', 'ARDS', 'AGE', 'GENDER',\n",
        "  'Creatinine', 'Driving_Pressure/BMI', 'Tidal_ml/BMI'])\n",
        "\n",
        "viz = plot_structure(\n",
        "    sm_t,\n",
        "    all_node_attributes={'color': None, 'shape': 'square', \\\n",
        "      'fillcolor': 'black', 'fontcolor': 'black', 'fontname': 'courier'},\n",
        "    all_edge_attributes={'color': 'blue'},\n",
        "    graph_attributes={'bgcolor': 'white', 'size': 2})\n",
        "filename = \"./structure_model.png\"\n",
        "viz.draw(filename)\n",
        "Image(filename)"
      ],
      "execution_count": 214,
      "outputs": [
        {
          "output_type": "execute_result",
          "data": {
            "image/png": "[encoded data removed]",
            "text/plain": [
              "<IPython.core.display.Image object>"
            ]
          },
          "metadata": {
            "tags": []
          },
          "execution_count": 214
        }
      ]
    },
    {
      "cell_type": "code",
      "metadata": {
        "id": "Vm17zOt8P8om",
        "colab_type": "code",
        "colab": {
          "base_uri": "https://localhost:8080/",
          "height": 216
        },
        "outputId": "4171d7fc-109c-4360-fbf1-893c93f0ee62"
      },
      "source": [
        "sm_t = sm.copy()\n",
        "sm_t.remove_edges_below_threshold(0.3)\n",
        "forbidden_edges = [('BMI', 'Driving_Pressure/BMI'), ('Driving_Pressure/BMI', \\\n",
        "  'Driving_Pressure'), ('Tidal_ml', 'Driving_Pressure/BMI'), ('Tidal_ml/BMI',\\\n",
        "  'RSC'), ('Driving_Pressure/BMI','Tidal_ml/BMI'), ('BMI','Tidal_ml/BMI'), \\\n",
        "  ('Driving_Pressure','Tidal_ml/BMI')]\n",
        "sm_t.remove_edges_from(forbidden_edges)\n",
        "\n",
        "sm_t.remove_nodes_from(['RSC', 'PaO2/FiO2', 'AGE', 'Creatinine', \\\n",
        "  'Driving_Pressure/BMI', 'Tidal_ml/BMI'])\n",
        "\n",
        "viz = plot_structure(\n",
        "    sm_t,\n",
        "    all_node_attributes={'color': None, 'shape': 'square', \\\n",
        "      'fillcolor': 'black', 'fontcolor': 'black', 'fontname': 'courier'},\n",
        "    all_edge_attributes={'color': 'indigo'},\n",
        "    graph_attributes={'bgcolor': 'white', 'size': 2})\n",
        "filename = \"./structure_model.png\"\n",
        "viz.draw(filename)\n",
        "Image(filename)"
      ],
      "execution_count": 145,
      "outputs": [
        {
          "output_type": "execute_result",
          "data": {
            "image/png": "[encoded data removed]",
            "text/plain": [
              "<IPython.core.display.Image object>"
            ]
          },
          "metadata": {
            "tags": []
          },
          "execution_count": 145
        }
      ]
    },
    {
      "cell_type": "code",
      "metadata": {
        "id": "jjDPE-gM_TX3",
        "colab_type": "code",
        "colab": {
          "base_uri": "https://localhost:8080/",
          "height": 617
        },
        "outputId": "fd5b7932-49e7-4fce-c723-02bf843d407c"
      },
      "source": [
        "sm_t = sm.copy()\n",
        "sm_t.remove_edges_below_threshold(0.1)\n",
        "forbidden_edges = [('BMI', 'Driving_Pressure/BMI'), ('Driving_Pressure/BMI', \\\n",
        "  'Driving_Pressure'), ('Tidal_ml', 'Driving_Pressure/BMI'), ('Tidal_ml/BMI',\\\n",
        "  'RSC'), ('Driving_Pressure/BMI','Tidal_ml/BMI'), ('BMI','Tidal_ml/BMI'), \\\n",
        "  ('Driving_Pressure','Tidal_ml/BMI'), ('Driving_Pressure/BMI', 'RSC')]\n",
        "sm_t.remove_edges_from(forbidden_edges)\n",
        "\n",
        "sm_t.remove_nodes_from(['AGE'])\n",
        "\n",
        "viz = plot_structure(\n",
        "    sm_t,\n",
        "    all_node_attributes={'color': None, 'shape': 'square', \\\n",
        "      'fillcolor': 'black', 'fontcolor': 'black', 'fontname': 'courier'},\n",
        "    all_edge_attributes={'color': 'red'},\n",
        "    graph_attributes={'bgcolor': 'white', 'size': 2})\n",
        "filename = \"./structure_model.png\"\n",
        "viz.draw(filename)\n",
        "Image(filename)"
      ],
      "execution_count": 193,
      "outputs": [
        {
          "output_type": "execute_result",
          "data": {
            "image/png": "[encoded data removed]",
            "text/plain": [
              "<IPython.core.display.Image object>"
            ]
          },
          "metadata": {
            "tags": []
          },
          "execution_count": 193
        }
      ]
    },
    {
      "cell_type": "markdown",
      "metadata": {
        "id": "z6u8tT4Jd-0U",
        "colab_type": "text"
      },
      "source": [
        "We see that without temporal parameters our structure is not robust. Accordingly we introduce them, now also forbidding trivial edges such as \\url{HCO3_Change} $\\rightarrow$ \\url{HCO3}."
      ]
    },
    {
      "cell_type": "code",
      "metadata": {
        "id": "a9g_nr5K_rWc",
        "colab_type": "code",
        "colab": {}
      },
      "source": [
        "df_e = df_enc.copy()\n",
        "\n",
        "df_e = add_series_list(['Creatinine', 'PaO2/FiO2', 'RSC', 'HCO3', 'PaCO2',\\\n",
        "  'Driving_Pressure', 'Driving_Pressure/BMI', 'Tidal_ml/BMI'])\n",
        "df_e = impute(df_e)\n",
        "\n",
        "drops = ['HADM_ID', 'CHARTDATE']\n",
        "df_e = df_e.drop(columns=drops)"
      ],
      "execution_count": 0,
      "outputs": []
    },
    {
      "cell_type": "code",
      "metadata": {
        "id": "d4JUjHdj_tCd",
        "colab_type": "code",
        "colab": {}
      },
      "source": [
        "sm = from_pandas(df_e, tabu_child_nodes=['GENDER', 'AGE', 'BMI'], \\\n",
        "  tabu_parent_nodes=['ARDS'])"
      ],
      "execution_count": 0,
      "outputs": []
    },
    {
      "cell_type": "code",
      "metadata": {
        "id": "Q08AqfrD_vYw",
        "colab_type": "code",
        "colab": {
          "base_uri": "https://localhost:8080/",
          "height": 216
        },
        "outputId": "897ca505-6724-442f-9fea-da0042c31ec5"
      },
      "source": [
        "sm_t = sm.copy()\n",
        "sm_t.remove_edges_below_threshold(0.5)\n",
        "forbidden_edges = [('BMI', 'Driving_Pressure/BMI'), ('Driving_Pressure/BMI', \\\n",
        "  'Driving_Pressure'), ('Tidal_ml', 'Driving_Pressure/BMI'), ('Tidal_ml/BMI',\\\n",
        "  'RSC'), ('Driving_Pressure/BMI','Tidal_ml/BMI'), ('BMI','Tidal_ml/BMI'), \\\n",
        "  ('Driving_Pressure','Tidal_ml/BMI'), ('Driving_Pressure_Change', \\\n",
        "  'Driving_Pressure/BMI')]\n",
        "sm_t.remove_edges_from(forbidden_edges)\n",
        "\n",
        "sm_t.remove_nodes_from(['RSC', 'PaO2/FiO2', 'AGE', 'Tidal_ml/BMI', \\\n",
        "  'Driving_Pressure/BMI', 'PaO2/FiO2 Change', 'RSC Change', 'HCO3 Change', \\\n",
        "  'PaCO2 Change', 'Driving_Pressure Change', 'Tidal_ml/BMI Change', \\\n",
        "  'Driving_Pressure/BMI Change', 'Creatinine', 'Creatinine Change'])\n",
        "\n",
        "viz = plot_structure(\n",
        "    sm_t,\n",
        "    all_node_attributes={'color': None, 'shape': 'square', \\\n",
        "      'fillcolor': 'black', 'fontcolor': 'black', 'fontname': 'courier'},\n",
        "    all_edge_attributes={'color': 'blue'},\n",
        "    graph_attributes={'bgcolor': 'white', 'size': 2})\n",
        "filename = \"./structure_model.png\"\n",
        "viz.draw(filename)\n",
        "Image(filename)"
      ],
      "execution_count": 269,
      "outputs": [
        {
          "output_type": "execute_result",
          "data": {
            "image/png": "[encoded data removed]",
            "text/plain": [
              "<IPython.core.display.Image object>"
            ]
          },
          "metadata": {
            "tags": []
          },
          "execution_count": 269
        }
      ]
    },
    {
      "cell_type": "code",
      "metadata": {
        "id": "CyYzzVw5_yuj",
        "colab_type": "code",
        "colab": {
          "base_uri": "https://localhost:8080/",
          "height": 471
        },
        "outputId": "20a90cc3-8b96-4730-fde0-8c7d65449687"
      },
      "source": [
        "sm_t = sm.copy()\n",
        "sm_t.remove_edges_below_threshold(0.3)\n",
        "forbidden_edges = [('BMI', 'Driving_Pressure/BMI'), ('Driving_Pressure/BMI', \\\n",
        "  'Driving_Pressure'), ('Tidal_ml', 'Driving_Pressure/BMI'), ('Tidal_ml/BMI',\\\n",
        "  'RSC'), ('Driving_Pressure/BMI','Tidal_ml/BMI'), ('BMI','Tidal_ml/BMI'), \\\n",
        "  ('Driving_Pressure','Tidal_ml/BMI'), ('Driving_Pressure_Change', \\\n",
        "  'Driving_Pressure/BMI'), ('RSC_Change', 'Tidal_ml_Change'), \\\n",
        "  ('Driving_Pressure', 'Driving_Pressure/BMI_Change'), \\\n",
        "  ('Driving_Pressure/BMI', 'Driving_Pressure/BMI_Change'), ('PaO2/FiO2', \\\n",
        "  'PaO2/FiO2_Change')]\n",
        "sm_t.remove_edges_from(forbidden_edges)\n",
        "\n",
        "sm_t.remove_nodes_from(['RSC', 'PaO2/FiO2', 'AGE', 'Tidal_ml/BMI', \\\n",
        "  'Driving_Pressure/BMI', 'PaO2/FiO2 Change', 'RSC Change', 'HCO3 Change', \\\n",
        "  'PaCO2 Change', 'Driving_Pressure Change', 'Tidal_ml/BMI Change', \\\n",
        "  'Driving_Pressure/BMI Change', 'Creatinine Change'])\n",
        "\n",
        "viz = plot_structure(\n",
        "    sm_t,\n",
        "    all_node_attributes={'color': None, 'shape': 'square', \\\n",
        "      'fillcolor': 'black', 'fontcolor': 'black', 'fontname': 'courier'},\n",
        "    all_edge_attributes={'color': 'blue'},\n",
        "    graph_attributes={'bgcolor': 'white', 'size': 2})\n",
        "filename = \"./structure_model.png\"\n",
        "viz.draw(filename)\n",
        "Image(filename)"
      ],
      "execution_count": 270,
      "outputs": [
        {
          "output_type": "execute_result",
          "data": {
            "image/png": "[encoded data removed]",
            "text/plain": [
              "<IPython.core.display.Image object>"
            ]
          },
          "metadata": {
            "tags": []
          },
          "execution_count": 270
        }
      ]
    },
    {
      "cell_type": "markdown",
      "metadata": {
        "id": "qFOEFtXpavN-",
        "colab_type": "text"
      },
      "source": [
        "Once again our structure does not appear robust; this time we try changing our temporal parameters to absolute daily differences to see if we can find a strong SCM."
      ]
    },
    {
      "cell_type": "code",
      "metadata": {
        "id": "NBpuiAWueD20",
        "colab_type": "code",
        "colab": {}
      },
      "source": [
        "df_e = df_enc.copy()\n",
        "\n",
        "df_e = add_series_list(['Creatinine', 'PaO2/FiO2', 'RSC', 'HCO3', 'PaCO2',\\\n",
        "  'Driving_Pressure', 'Driving_Pressure/BMI', 'Tidal_ml/BMI'])\n",
        "df_e = impute(df_e)\n",
        "\n",
        "drops = ['HADM_ID', 'CHARTDATE']\n",
        "df_e = df_e.drop(columns=drops)"
      ],
      "execution_count": 0,
      "outputs": []
    },
    {
      "cell_type": "code",
      "metadata": {
        "id": "hYGH80R9eUVD",
        "colab_type": "code",
        "colab": {}
      },
      "source": [
        "sm = from_pandas(df_e, tabu_child_nodes=['GENDER', 'AGE', 'BMI'], \\\n",
        "  tabu_parent_nodes=['ARDS'])"
      ],
      "execution_count": 0,
      "outputs": []
    },
    {
      "cell_type": "code",
      "metadata": {
        "id": "7g9K0xdfeX5h",
        "colab_type": "code",
        "outputId": "e18e86e3-f40f-4dd6-9c3d-f27145629a33",
        "colab": {
          "base_uri": "https://localhost:8080/",
          "height": 263
        }
      },
      "source": [
        "sm_t = sm.copy()\n",
        "sm_t.remove_edges_below_threshold(0.5)\n",
        "forbidden_edges = [('BMI', 'Driving_Pressure/BMI'), ('Driving_Pressure/BMI', \\\n",
        "  'Driving_Pressure'), ('Tidal_ml', 'Driving_Pressure/BMI'), ('Tidal_ml/BMI',\\\n",
        "  'RSC'), ('Driving_Pressure/BMI','Tidal_ml/BMI'), ('BMI','Tidal_ml/BMI'), \\\n",
        "  ('Driving_Pressure','Tidal_ml/BMI'), ('Driving_Pressure_Change', \\\n",
        "  'Driving_Pressure/BMI')]\n",
        "sm_t.remove_edges_from(forbidden_edges)\n",
        "\n",
        "sm_t.remove_nodes_from(['RSC', 'PaO2/FiO2', 'AGE', 'Tidal_ml/BMI', \\\n",
        "  'Driving_Pressure/BMI', 'PaO2/FiO2 Change', 'RSC Change', 'HCO3 Change', \\\n",
        "  'PaCO2 Change', 'Driving_Pressure Change', 'Tidal_ml/BMI Change', \\\n",
        "  'Driving_Pressure/BMI Change'])\n",
        "\n",
        "viz = plot_structure(\n",
        "    sm_t,\n",
        "    all_node_attributes={'color': None, 'shape': 'square', \\\n",
        "      'fillcolor': 'black', 'fontcolor': 'black', 'fontname': 'courier'},\n",
        "    all_edge_attributes={'color': 'blue'},\n",
        "    graph_attributes={'bgcolor': 'white', 'size': 2})\n",
        "filename = \"./structure_model.png\"\n",
        "viz.draw(filename)\n",
        "Image(filename)"
      ],
      "execution_count": 234,
      "outputs": [
        {
          "output_type": "execute_result",
          "data": {
            "image/png": "[encoded data removed]",
            "text/plain": [
              "<IPython.core.display.Image object>"
            ]
          },
          "metadata": {
            "tags": []
          },
          "execution_count": 234
        }
      ]
    },
    {
      "cell_type": "code",
      "metadata": {
        "id": "o_3Pgk93gpoZ",
        "colab_type": "code",
        "colab": {
          "base_uri": "https://localhost:8080/",
          "height": 617
        },
        "outputId": "2998f15e-96ee-41b9-92e8-19c3400892af"
      },
      "source": [
        "sm_t = sm.copy()\n",
        "sm_t.remove_edges_below_threshold(0.2)\n",
        "forbidden_edges = [('BMI', 'Driving_Pressure/BMI'), ('Driving_Pressure/BMI', \\\n",
        "  'Driving_Pressure'), ('Tidal_ml', 'Driving_Pressure/BMI'), ('Tidal_ml/BMI',\\\n",
        "  'RSC'), ('Driving_Pressure/BMI','Tidal_ml/BMI'), ('BMI','Tidal_ml/BMI'), \\\n",
        "  ('Driving_Pressure','Tidal_ml/BMI'), ('Driving_Pressure_Change', \\\n",
        "  'Driving_Pressure/BMI'), ('RSC_Change', 'Tidal_ml_Change'), \\\n",
        "  ('Driving_Pressure', 'Driving_Pressure/BMI_Change'), \\\n",
        "  ('Driving_Pressure/BMI', 'Driving_Pressure/BMI_Change'), ('PaO2/FiO2', \\\n",
        "  'PaO2/FiO2_Change')]\n",
        "sm_t.remove_edges_from(forbidden_edges)\n",
        "\n",
        "sm_t.remove_nodes_from(['RSC', 'PaO2/FiO2', 'AGE', 'Tidal_ml/BMI', \\\n",
        "  'Driving_Pressure/BMI', 'PaO2/FiO2 Change', 'RSC Change', 'HCO3 Change', \\\n",
        "  'PaCO2 Change', 'Driving_Pressure Change', 'Tidal_ml/BMI Change', \\\n",
        "  'Driving_Pressure/BMI Change'])\n",
        "\n",
        "viz = plot_structure(\n",
        "    sm_t,\n",
        "    all_node_attributes={'color': None, 'shape': 'square', \\\n",
        "      'fillcolor': 'black', 'fontcolor': 'black', 'fontname': 'courier'},\n",
        "    all_edge_attributes={'color': 'blue'},\n",
        "    graph_attributes={'bgcolor': 'white', 'size': 2})\n",
        "filename = \"./structure_model.png\"\n",
        "viz.draw(filename)\n",
        "Image(filename)"
      ],
      "execution_count": 239,
      "outputs": [
        {
          "output_type": "execute_result",
          "data": {
            "image/png": "[encoded data removed]",
            "text/plain": [
              "<IPython.core.display.Image object>"
            ]
          },
          "metadata": {
            "tags": []
          },
          "execution_count": 239
        }
      ]
    }
  ]
}