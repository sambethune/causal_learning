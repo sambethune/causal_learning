{
  "nbformat": 4,
  "nbformat_minor": 0,
  "metadata": {
    "colab": {
      "name": "20/3->27/3.ipynb",
      "provenance": [],
      "authorship_tag": "ABX9TyOxg5UkOAifVMme6Uc/6KJ3",
      "include_colab_link": true
    },
    "kernelspec": {
      "name": "python3",
      "display_name": "Python 3"
    }
  },
  "cells": [
    {
      "cell_type": "markdown",
      "metadata": {
        "id": "view-in-github",
        "colab_type": "text"
      },
      "source": [
        "<a href=\"https://colab.research.google.com/github/sambethune/causal_learning/blob/master/20_3_%3E27_3.ipynb\" target=\"_parent\"><img src=\"https://colab.research.google.com/assets/colab-badge.svg\" alt=\"Open In Colab\"/></a>"
      ]
    },
    {
      "cell_type": "markdown",
      "metadata": {
        "id": "TinljN_EHmBr",
        "colab_type": "text"
      },
      "source": [
        "This week I began reading into causal inference, temporarily leaving behind applied machine learning. Having been recommended Schölkopf and Janzing's lectures from the 2013 Tübingen conference, I began studying these but found them beyond my grasp. For now, a simpler resource was called for.\n",
        "\n",
        "Following some stumbling, including watching part of Jonas Peters' excellent lectures while reading along with their associated script (again out of my reach eventually), I arrived at a an approachable introductory lecture assuming no background. This was Pearl's presentation on causal reasoning at PyData LA 2018.\n",
        "\n",
        "Next I investigated Pearl et al's *Causal Inference in Statistics: a Primer*. This was almost ideal; concepts were clearly defined and very little assumed by way of prior knowledge."
      ]
    }
  ]
}