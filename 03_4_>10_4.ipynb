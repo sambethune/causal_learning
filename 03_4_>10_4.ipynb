{
  "nbformat": 4,
  "nbformat_minor": 0,
  "metadata": {
    "colab": {
      "name": "03/4->10/4.ipynb",
      "provenance": [],
      "authorship_tag": "ABX9TyOo28QbQPw5TqBK2Hi5Q6eK",
      "include_colab_link": true
    },
    "kernelspec": {
      "name": "python3",
      "display_name": "Python 3"
    }
  },
  "cells": [
    {
      "cell_type": "markdown",
      "metadata": {
        "id": "view-in-github",
        "colab_type": "text"
      },
      "source": [
        "<a href=\"https://colab.research.google.com/github/sambethune/causal_learning/blob/master/03_4_%3E10_4.ipynb\" target=\"_parent\"><img src=\"https://colab.research.google.com/assets/colab-badge.svg\" alt=\"Open In Colab\"/></a>"
      ]
    },
    {
      "cell_type": "markdown",
      "metadata": {
        "id": "OrrhOV23O_AG",
        "colab_type": "text"
      },
      "source": [
        "This week I spent most of my time on Li et al's *Practical Approaches to Causal Relationship Exploration*. I found this book remarkably helpful, especially its coverage of the PC family; I passed over the sections on statistically based methods in comparison. Also of note were the explanations of the Causal Markov and faithfulness conditions in this book, giving unique interpretations I required assistance to interpret.\n",
        "\n",
        "Of particular interest in Kalainathan's CDT package was the Structural Agnostic Model developed by himself and others. I read the white paper for the algorithm and parts of Schölkopf et al's *Elements of Causal Inference: Foundations and Learning Algorithms* to boost my understanding."
      ]
    }
  ]
}