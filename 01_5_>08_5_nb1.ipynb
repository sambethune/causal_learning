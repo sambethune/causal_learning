{
  "nbformat": 4,
  "nbformat_minor": 0,
  "metadata": {
    "colab": {
      "name": "01/5->08/5_nb1.ipynb",
      "provenance": [],
      "collapsed_sections": [],
      "authorship_tag": "ABX9TyPvYH9BnuHIOnJQtUWwt8P8",
      "include_colab_link": true
    },
    "kernelspec": {
      "name": "python3",
      "display_name": "Python 3"
    }
  },
  "cells": [
    {
      "cell_type": "markdown",
      "metadata": {
        "id": "view-in-github",
        "colab_type": "text"
      },
      "source": [
        "<a href=\"https://colab.research.google.com/github/sambethune/causal_learning/blob/master/01_5_%3E08_5_nb1.ipynb\" target=\"_parent\"><img src=\"https://colab.research.google.com/assets/colab-badge.svg\" alt=\"Open In Colab\"/></a>"
      ]
    },
    {
      "cell_type": "markdown",
      "metadata": {
        "id": "PxpdGo3-YrkB",
        "colab_type": "text"
      },
      "source": [
        "## MIMIC-3 Analysis"
      ]
    },
    {
      "cell_type": "markdown",
      "metadata": {
        "id": "gAat36Offom4",
        "colab_type": "text"
      },
      "source": [
        "Let's examine an example subset of the MIMIC-3 database to see if we can infer any causal relations."
      ]
    },
    {
      "cell_type": "markdown",
      "metadata": {
        "id": "LsrR1eUIbdE8",
        "colab_type": "text"
      },
      "source": [
        "## Configuration and Cleaning"
      ]
    },
    {
      "cell_type": "code",
      "metadata": {
        "id": "dCbcHwGvZEt5",
        "colab_type": "code",
        "colab": {}
      },
      "source": [
        "from google.colab import drive, files\n",
        "drive.mount('/content/drive')"
      ],
      "execution_count": 0,
      "outputs": []
    },
    {
      "cell_type": "code",
      "metadata": {
        "id": "zIqbeLi6ZxzU",
        "colab_type": "code",
        "colab": {}
      },
      "source": [
        "% cd /content/drive/My Drive/SCIE3250 Journal/01 5 -> 08 5"
      ],
      "execution_count": 0,
      "outputs": []
    },
    {
      "cell_type": "code",
      "metadata": {
        "id": "1CEXB9adZWQC",
        "colab_type": "code",
        "colab": {}
      },
      "source": [
        "! pip install --upgrade pandas==0.24.0  # We require this version of pandas\n",
        "! pip install causalnex\n",
        "! pip install ipdb\n",
        "import ipdb"
      ],
      "execution_count": 0,
      "outputs": []
    },
    {
      "cell_type": "code",
      "metadata": {
        "id": "QzhKxUQ2ZhNX",
        "colab_type": "code",
        "colab": {}
      },
      "source": [
        "files.upload()"
      ],
      "execution_count": 0,
      "outputs": []
    },
    {
      "cell_type": "code",
      "metadata": {
        "id": "SVBVO7vBZ3yL",
        "colab_type": "code",
        "outputId": "809ff2ab-f924-4448-846f-101b865af402",
        "colab": {
          "base_uri": "https://localhost:8080/",
          "height": 224
        }
      },
      "source": [
        "import pandas as pd\n",
        "df = pd.read_csv('mimic_day_blocks_ARDS2.csv', delimiter=',')\n",
        "df.head()"
      ],
      "execution_count": 3,
      "outputs": [
        {
          "output_type": "execute_result",
          "data": {
            "text/html": [
              "<div>\n",
              "<style scoped>\n",
              "    .dataframe tbody tr th:only-of-type {\n",
              "        vertical-align: middle;\n",
              "    }\n",
              "\n",
              "    .dataframe tbody tr th {\n",
              "        vertical-align: top;\n",
              "    }\n",
              "\n",
              "    .dataframe thead th {\n",
              "        text-align: right;\n",
              "    }\n",
              "</style>\n",
              "<table border=\"1\" class=\"dataframe\">\n",
              "  <thead>\n",
              "    <tr style=\"text-align: right;\">\n",
              "      <th></th>\n",
              "      <th>HADM_ID</th>\n",
              "      <th>CHARTDATE</th>\n",
              "      <th>BMI</th>\n",
              "      <th>RSC</th>\n",
              "      <th>PaO2/FiO2</th>\n",
              "      <th>PaCO2</th>\n",
              "      <th>Tidal_ml</th>\n",
              "      <th>Plateau_Pressure_cmH2O</th>\n",
              "      <th>Total_PEEP_cmH2O</th>\n",
              "      <th>PaO2</th>\n",
              "      <th>FiO2</th>\n",
              "      <th>ARDS</th>\n",
              "      <th>AGE</th>\n",
              "      <th>GENDER</th>\n",
              "      <th>AGE_INTERVALS</th>\n",
              "      <th>HCO3</th>\n",
              "      <th>Creatinine</th>\n",
              "    </tr>\n",
              "  </thead>\n",
              "  <tbody>\n",
              "    <tr>\n",
              "      <th>0</th>\n",
              "      <td>100024</td>\n",
              "      <td>2170-09-19</td>\n",
              "      <td>29.52852</td>\n",
              "      <td>42.38806</td>\n",
              "      <td>2.28000</td>\n",
              "      <td>45.0</td>\n",
              "      <td>568.0</td>\n",
              "      <td>19.0</td>\n",
              "      <td>5.6</td>\n",
              "      <td>114.0</td>\n",
              "      <td>50.0</td>\n",
              "      <td>0</td>\n",
              "      <td>71</td>\n",
              "      <td>M</td>\n",
              "      <td>(70, 75]</td>\n",
              "      <td>24.0</td>\n",
              "      <td>0.8</td>\n",
              "    </tr>\n",
              "    <tr>\n",
              "      <th>1</th>\n",
              "      <td>100035</td>\n",
              "      <td>2115-02-22</td>\n",
              "      <td>31.63272</td>\n",
              "      <td>25.00000</td>\n",
              "      <td>1.40000</td>\n",
              "      <td>97.0</td>\n",
              "      <td>500.0</td>\n",
              "      <td>30.0</td>\n",
              "      <td>10.0</td>\n",
              "      <td>84.0</td>\n",
              "      <td>60.0</td>\n",
              "      <td>1</td>\n",
              "      <td>37</td>\n",
              "      <td>M</td>\n",
              "      <td>(35, 40]</td>\n",
              "      <td>33.0</td>\n",
              "      <td>1.2</td>\n",
              "    </tr>\n",
              "    <tr>\n",
              "      <th>2</th>\n",
              "      <td>100035</td>\n",
              "      <td>2115-02-23</td>\n",
              "      <td>31.63272</td>\n",
              "      <td>37.42857</td>\n",
              "      <td>0.93333</td>\n",
              "      <td>35.0</td>\n",
              "      <td>524.0</td>\n",
              "      <td>30.0</td>\n",
              "      <td>16.0</td>\n",
              "      <td>56.0</td>\n",
              "      <td>60.0</td>\n",
              "      <td>1</td>\n",
              "      <td>37</td>\n",
              "      <td>M</td>\n",
              "      <td>(35, 40]</td>\n",
              "      <td>24.0</td>\n",
              "      <td>1.0</td>\n",
              "    </tr>\n",
              "    <tr>\n",
              "      <th>3</th>\n",
              "      <td>100035</td>\n",
              "      <td>2115-02-24</td>\n",
              "      <td>31.63272</td>\n",
              "      <td>50.72727</td>\n",
              "      <td>1.06154</td>\n",
              "      <td>54.0</td>\n",
              "      <td>558.0</td>\n",
              "      <td>24.0</td>\n",
              "      <td>13.0</td>\n",
              "      <td>69.0</td>\n",
              "      <td>65.0</td>\n",
              "      <td>1</td>\n",
              "      <td>37</td>\n",
              "      <td>M</td>\n",
              "      <td>(35, 40]</td>\n",
              "      <td>30.0</td>\n",
              "      <td>0.8</td>\n",
              "    </tr>\n",
              "    <tr>\n",
              "      <th>4</th>\n",
              "      <td>100035</td>\n",
              "      <td>2115-02-25</td>\n",
              "      <td>31.63272</td>\n",
              "      <td>40.10000</td>\n",
              "      <td>2.10000</td>\n",
              "      <td>59.0</td>\n",
              "      <td>401.0</td>\n",
              "      <td>30.0</td>\n",
              "      <td>20.0</td>\n",
              "      <td>84.0</td>\n",
              "      <td>40.0</td>\n",
              "      <td>1</td>\n",
              "      <td>37</td>\n",
              "      <td>M</td>\n",
              "      <td>(35, 40]</td>\n",
              "      <td>30.0</td>\n",
              "      <td>1.6</td>\n",
              "    </tr>\n",
              "  </tbody>\n",
              "</table>\n",
              "</div>"
            ],
            "text/plain": [
              "   HADM_ID   CHARTDATE       BMI  ...  AGE_INTERVALS  HCO3  Creatinine\n",
              "0   100024  2170-09-19  29.52852  ...       (70, 75]  24.0         0.8\n",
              "1   100035  2115-02-22  31.63272  ...       (35, 40]  33.0         1.2\n",
              "2   100035  2115-02-23  31.63272  ...       (35, 40]  24.0         1.0\n",
              "3   100035  2115-02-24  31.63272  ...       (35, 40]  30.0         0.8\n",
              "4   100035  2115-02-25  31.63272  ...       (35, 40]  30.0         1.6\n",
              "\n",
              "[5 rows x 17 columns]"
            ]
          },
          "metadata": {
            "tags": []
          },
          "execution_count": 3
        }
      ]
    },
    {
      "cell_type": "markdown",
      "metadata": {
        "id": "REtaus5-fjsC",
        "colab_type": "text"
      },
      "source": [
        "A quick rundown of our dataframe:\n",
        "- HADM_ID -> Some sort of patient admission ID.\n",
        "- CHARTDATE -> Corresponding timestamp.\n",
        "- BMI -> Body Mass Index; Underweight[<18.5], Healthy[18.5-24.9], Overweigh[25-29.9], Obese[>30].\n",
        "- RSC -> ?\n",
        "- PaO2/FiO2 -> Divisor PaO2 & FiO2; Normal[>200], Moderate[100-200], Severe[<100].\n",
        "- PaCO2 -> Partial CO2 pressure, can indicate respiratory issues. Low[<75], Healthy[75-100], High[>100]\n",
        "- Tidal_ml -> Air intake per cycle; usually recorded with body mass in ml/kg. Less for existing conditions etc.\n",
        "- Plateau_Pressure_cmH2O -> Alveolar pressure; Healthy[<30], Risk[>30]\n",
        "- Total_PEEP_cmH2O -> Put into ~5 bins.\n",
        "- PaO2 -> Partial O2 pressure; Low[<80], Healthy [80-100], High[>100].\n",
        "- Fraction of inspired O2 -> Oxygen enriched air, content; Guess that Normal[>30], High[>30].\n",
        "- ARDS -> ARDS Binary; Yes[1], No[0].\n",
        "- HCO3 -> Bicarbonate dosage, measures acid imbalance; ~4 bins.\n",
        "- Creatinine -> Measures kidney health; Low[0.6], Healthy[0.6-1.2], High[>1.2].\n"
      ]
    },
    {
      "cell_type": "markdown",
      "metadata": {
        "id": "VXTbE3raphL7",
        "colab_type": "text"
      },
      "source": [
        "We refine our parameters."
      ]
    },
    {
      "cell_type": "code",
      "metadata": {
        "id": "z5oXig-jXQrB",
        "colab_type": "code",
        "colab": {}
      },
      "source": [
        "drops = ['HADM_ID', 'CHARTDATE']\n",
        "df = df.drop(columns=drops)"
      ],
      "execution_count": 0,
      "outputs": []
    },
    {
      "cell_type": "markdown",
      "metadata": {
        "id": "abshi14jtBTt",
        "colab_type": "text"
      },
      "source": [
        "Also we digitalise our discrete variables."
      ]
    },
    {
      "cell_type": "code",
      "metadata": {
        "id": "5w2OXiEYsfOj",
        "colab_type": "code",
        "outputId": "e4a44e51-ef80-4e3e-bd94-070fca18e2ed",
        "colab": {
          "base_uri": "https://localhost:8080/",
          "height": 224
        }
      },
      "source": [
        "import numpy as np\n",
        "df_enc = df.copy()\n",
        "\n",
        "non_numeric_columns = \\\n",
        "list(df_enc.select_dtypes(exclude=[np.number]).columns)\n",
        "\n",
        "from sklearn.preprocessing import LabelEncoder\n",
        "\n",
        "le = LabelEncoder()\n",
        "for col in non_numeric_columns:\n",
        "    df_enc[col] = le.fit_transform(df_enc[col])\n",
        "\n",
        "df_enc.head(5)"
      ],
      "execution_count": 5,
      "outputs": [
        {
          "output_type": "execute_result",
          "data": {
            "text/html": [
              "<div>\n",
              "<style scoped>\n",
              "    .dataframe tbody tr th:only-of-type {\n",
              "        vertical-align: middle;\n",
              "    }\n",
              "\n",
              "    .dataframe tbody tr th {\n",
              "        vertical-align: top;\n",
              "    }\n",
              "\n",
              "    .dataframe thead th {\n",
              "        text-align: right;\n",
              "    }\n",
              "</style>\n",
              "<table border=\"1\" class=\"dataframe\">\n",
              "  <thead>\n",
              "    <tr style=\"text-align: right;\">\n",
              "      <th></th>\n",
              "      <th>BMI</th>\n",
              "      <th>RSC</th>\n",
              "      <th>PaO2/FiO2</th>\n",
              "      <th>PaCO2</th>\n",
              "      <th>Tidal_ml</th>\n",
              "      <th>Plateau_Pressure_cmH2O</th>\n",
              "      <th>Total_PEEP_cmH2O</th>\n",
              "      <th>PaO2</th>\n",
              "      <th>FiO2</th>\n",
              "      <th>ARDS</th>\n",
              "      <th>AGE</th>\n",
              "      <th>GENDER</th>\n",
              "      <th>AGE_INTERVALS</th>\n",
              "      <th>HCO3</th>\n",
              "      <th>Creatinine</th>\n",
              "    </tr>\n",
              "  </thead>\n",
              "  <tbody>\n",
              "    <tr>\n",
              "      <th>0</th>\n",
              "      <td>29.52852</td>\n",
              "      <td>42.38806</td>\n",
              "      <td>2.28000</td>\n",
              "      <td>45.0</td>\n",
              "      <td>568.0</td>\n",
              "      <td>19.0</td>\n",
              "      <td>5.6</td>\n",
              "      <td>114.0</td>\n",
              "      <td>50.0</td>\n",
              "      <td>0</td>\n",
              "      <td>71</td>\n",
              "      <td>1</td>\n",
              "      <td>11</td>\n",
              "      <td>24.0</td>\n",
              "      <td>0.8</td>\n",
              "    </tr>\n",
              "    <tr>\n",
              "      <th>1</th>\n",
              "      <td>31.63272</td>\n",
              "      <td>25.00000</td>\n",
              "      <td>1.40000</td>\n",
              "      <td>97.0</td>\n",
              "      <td>500.0</td>\n",
              "      <td>30.0</td>\n",
              "      <td>10.0</td>\n",
              "      <td>84.0</td>\n",
              "      <td>60.0</td>\n",
              "      <td>1</td>\n",
              "      <td>37</td>\n",
              "      <td>1</td>\n",
              "      <td>4</td>\n",
              "      <td>33.0</td>\n",
              "      <td>1.2</td>\n",
              "    </tr>\n",
              "    <tr>\n",
              "      <th>2</th>\n",
              "      <td>31.63272</td>\n",
              "      <td>37.42857</td>\n",
              "      <td>0.93333</td>\n",
              "      <td>35.0</td>\n",
              "      <td>524.0</td>\n",
              "      <td>30.0</td>\n",
              "      <td>16.0</td>\n",
              "      <td>56.0</td>\n",
              "      <td>60.0</td>\n",
              "      <td>1</td>\n",
              "      <td>37</td>\n",
              "      <td>1</td>\n",
              "      <td>4</td>\n",
              "      <td>24.0</td>\n",
              "      <td>1.0</td>\n",
              "    </tr>\n",
              "    <tr>\n",
              "      <th>3</th>\n",
              "      <td>31.63272</td>\n",
              "      <td>50.72727</td>\n",
              "      <td>1.06154</td>\n",
              "      <td>54.0</td>\n",
              "      <td>558.0</td>\n",
              "      <td>24.0</td>\n",
              "      <td>13.0</td>\n",
              "      <td>69.0</td>\n",
              "      <td>65.0</td>\n",
              "      <td>1</td>\n",
              "      <td>37</td>\n",
              "      <td>1</td>\n",
              "      <td>4</td>\n",
              "      <td>30.0</td>\n",
              "      <td>0.8</td>\n",
              "    </tr>\n",
              "    <tr>\n",
              "      <th>4</th>\n",
              "      <td>31.63272</td>\n",
              "      <td>40.10000</td>\n",
              "      <td>2.10000</td>\n",
              "      <td>59.0</td>\n",
              "      <td>401.0</td>\n",
              "      <td>30.0</td>\n",
              "      <td>20.0</td>\n",
              "      <td>84.0</td>\n",
              "      <td>40.0</td>\n",
              "      <td>1</td>\n",
              "      <td>37</td>\n",
              "      <td>1</td>\n",
              "      <td>4</td>\n",
              "      <td>30.0</td>\n",
              "      <td>1.6</td>\n",
              "    </tr>\n",
              "  </tbody>\n",
              "</table>\n",
              "</div>"
            ],
            "text/plain": [
              "        BMI       RSC  PaO2/FiO2  ...  AGE_INTERVALS  HCO3  Creatinine\n",
              "0  29.52852  42.38806    2.28000  ...             11  24.0         0.8\n",
              "1  31.63272  25.00000    1.40000  ...              4  33.0         1.2\n",
              "2  31.63272  37.42857    0.93333  ...              4  24.0         1.0\n",
              "3  31.63272  50.72727    1.06154  ...              4  30.0         0.8\n",
              "4  31.63272  40.10000    2.10000  ...              4  30.0         1.6\n",
              "\n",
              "[5 rows x 15 columns]"
            ]
          },
          "metadata": {
            "tags": []
          },
          "execution_count": 5
        }
      ]
    },
    {
      "cell_type": "markdown",
      "metadata": {
        "id": "lf0rNyzLYeP3",
        "colab_type": "text"
      },
      "source": [
        "Missing values are present in the data as both zeros and infinities; additionally some entries present typing errors such as missing digits. Accordingly we impute the infinities as parameter means and similarly filter wide outliers to manage the zeros and errors."
      ]
    },
    {
      "cell_type": "code",
      "metadata": {
        "id": "HLE2t9gzoBIl",
        "colab_type": "code",
        "colab": {}
      },
      "source": [
        "# Store parameter labels of df_enc\n",
        "my_columns = df_enc.columns"
      ],
      "execution_count": 0,
      "outputs": []
    },
    {
      "cell_type": "code",
      "metadata": {
        "id": "nDPPdvzwZBKS",
        "colab_type": "code",
        "colab": {}
      },
      "source": [
        "# Replace infinities with nan\n",
        "df_enc.replace([-np.inf, np.inf], np.nan, inplace=True)\n",
        "\n",
        "# Do not remove zeroes from discrete variables\n",
        "cols_clean = ['BMI', 'RSC', 'PaO2/FiO2', 'PaCO2', 'Tidal_ml', \\\n",
        "  'Plateau_Pressure_cmH2O', 'Total_PEEP_cmH2O', 'PaO2', 'FiO2', 'ARDS', 'AGE']\n",
        "\n",
        "# Replace outliers 3 standard deviations or more away with nan\n",
        "for col in cols_clean:\n",
        "  df_enc[col] = df_enc[col].mask(df_enc[col].values - df_enc[col].mean() > \\\n",
        "    3*df_enc[col].std(), other=np.nan)\n",
        "  \n",
        "# Impute all nan as parameter mean\n",
        "from sklearn.impute import SimpleImputer\n",
        "\n",
        "imp = SimpleImputer(missing_values=np.nan, strategy='mean')\n",
        "df_enc = pd.DataFrame(imp.fit_transform(df_enc), columns=my_columns)"
      ],
      "execution_count": 0,
      "outputs": []
    },
    {
      "cell_type": "markdown",
      "metadata": {
        "id": "JA1x5boQmtzf",
        "colab_type": "text"
      },
      "source": [
        "We now scale our data to prepare for modelling."
      ]
    },
    {
      "cell_type": "code",
      "metadata": {
        "id": "Mk6Uen1cuEb6",
        "colab_type": "code",
        "colab": {}
      },
      "source": [
        "from sklearn import preprocessing\n",
        "\n",
        "df_enc_cont = pd.DataFrame(preprocessing.scale(df_enc), columns=my_columns)"
      ],
      "execution_count": 0,
      "outputs": []
    },
    {
      "cell_type": "markdown",
      "metadata": {
        "id": "tsZ33CGqth4G",
        "colab_type": "text"
      },
      "source": [
        "For the creation of our Bayesian network we will require discretised, classified data; we classify in accordance with our earlier description."
      ]
    },
    {
      "cell_type": "code",
      "metadata": {
        "id": "pDbor3w5uQH4",
        "colab_type": "code",
        "colab": {}
      },
      "source": [
        "df_enc_disc = df_enc.copy()\n",
        "\n",
        "from causalnex.discretiser import Discretiser\n",
        "\n",
        "df_enc_disc['BMI'] = Discretiser(method='fixed',\n",
        "  numeric_split_points=[18.5, 25, 30]).transform(df_enc_disc['BMI'].values)\n",
        "\n",
        "df_enc_disc['PaO2/FiO2'] = Discretiser(method='fixed',\n",
        "  numeric_split_points=[100, 200]).transform(df_enc_disc['PaO2/FiO2'].values)\n",
        "\n",
        "df_enc_disc['PaCO2'] = Discretiser(method='fixed',\n",
        "  numeric_split_points=[75, 100]).transform(df_enc_disc['PaCO2'].values)\n",
        "\n",
        "df_enc_disc['Plateau_Pressure_cmH2O'] = Discretiser(method='fixed',\n",
        "  numeric_split_points=[30]).\\\n",
        "  transform(df_enc_disc['Plateau_Pressure_cmH2O'].values)\n",
        "\n",
        "df_enc_disc['PaO2'] = Discretiser(method='fixed',\n",
        "  numeric_split_points=[80, 100]).transform(df_enc_disc['PaO2'].values)\n",
        "\n",
        "df_enc_disc['FiO2'] = Discretiser(method='fixed',\n",
        "  numeric_split_points=[30]).transform(df_enc_disc['FiO2'].values)\n",
        "\n",
        "df_enc_disc['Creatinine'] = Discretiser(method='fixed',\n",
        "  numeric_split_points=[0.6, 1.2]).transform(df_enc_disc['Creatinine'].values)\n",
        "\n",
        "df_enc_disc['RSC'] = Discretiser(method='quantile',\n",
        "  num_buckets=5).fit_transform(df_enc_disc['RSC'].values)\n",
        "\n",
        "df_enc_disc['Tidal_ml'] = Discretiser(method='quantile',\n",
        "  num_buckets=5).fit_transform(df_enc_disc['Tidal_ml'].values)\n",
        "\n",
        "df_enc_disc['Total_PEEP_cmH2O'] = Discretiser(method='quantile',\n",
        "  num_buckets=5).fit_transform(df_enc_disc['Total_PEEP_cmH2O'].values)\n",
        "\n",
        "df_enc_disc['HCO3'] = Discretiser(method='quantile',\n",
        "  num_buckets=5).fit_transform(df_enc_disc['HCO3'].values)"
      ],
      "execution_count": 0,
      "outputs": []
    },
    {
      "cell_type": "code",
      "metadata": {
        "id": "UHddqViJaBiw",
        "colab_type": "code",
        "colab": {}
      },
      "source": [
        "BMI_map = {0: 'Underweight', 1: 'Normal', 2: 'Overweight', 3: 'Obese'}\n",
        "\n",
        "PaO2FiO2_map = {0: 'Low PaO2/FiO2', 1: 'Normal PaO2/FiO2', 2: 'High PaO2/FiO2'}\n",
        "\n",
        "PaCO2_map = {0: 'Low PaCO2', 1: 'Normal PaCO2', 2: 'High PaCO2'}\n",
        "\n",
        "Plateau_Pressure_cmH2O_map = {0: 'Normal Plateau_Pressure_cmH2O', \n",
        "  1: 'High Plateau_Pressure_cmH2O'}\n",
        "\n",
        "PaO2_map = {0: 'Low PaO2', 1: 'Normal PaO2', 2: 'High PaO2'}\n",
        "\n",
        "FiO2_map = {0: 'Normal FiO2', 1: 'High FiO2'}\n",
        "\n",
        "Creatinine_map = {0: 'Low Creatinine', 1: 'Normal Creatinine', \n",
        "  2: 'High Creatinine'}\n",
        "\n",
        "RSC_map = {0: 'RSC 1', 1: 'RSC 2', 2: 'RSC 3', 3: 'RSC 4', 4: 'RSC 5'}\n",
        "\n",
        "Tidal_ml_map = {0: 'Tidal_ml 1', 1: 'Tidal_ml 2', 2: 'Tidal_ml 3', 3: \n",
        "  'Tidal_ml 4', 4: 'Tidal_ml 5'}\n",
        "\n",
        "Total_PEEP_cmH2O_map = {0: 'Total_PEEP_cmH2O 1', 1: 'Total_PEEP_cmH2O 2', \n",
        "  2: 'Total_PEEP_cmH2O 3', 3: 'Total_PEEP_cmH2O 4', 4: 'Total_PEEP_cmH2O 5'}\n",
        "\n",
        "HCO3_map = {0: 'HCO3 1', 1: 'HCO3 2', 2: 'HCO3 3', 3: 'HCO3 4', 4: 'HCO3 5'}"
      ],
      "execution_count": 0,
      "outputs": []
    },
    {
      "cell_type": "code",
      "metadata": {
        "id": "qcS9P6wucr8a",
        "colab_type": "code",
        "colab": {}
      },
      "source": [
        "df_enc_disc[\"BMI\"] = df_enc_disc[\"BMI\"].map(BMI_map)\n",
        "\n",
        "df_enc_disc[\"PaO2/FiO2\"] = df_enc_disc[\"PaO2/FiO2\"].map(PaO2FiO2_map)\n",
        "\n",
        "df_enc_disc[\"PaCO2\"] = df_enc_disc[\"PaCO2\"].map(PaCO2_map)\n",
        "\n",
        "df_enc_disc[\"Plateau_Pressure_cmH2O\"] = \\\n",
        "  df_enc_disc[\"Plateau_Pressure_cmH2O\"].map(Plateau_Pressure_cmH2O_map)\n",
        "\n",
        "df_enc_disc[\"PaO2\"] = df_enc_disc[\"PaO2\"].map(PaO2_map)\n",
        "\n",
        "df_enc_disc[\"FiO2\"] = df_enc_disc[\"FiO2\"].map(FiO2_map)\n",
        "\n",
        "df_enc_disc[\"Creatinine\"] = df_enc_disc[\"Creatinine\"].map(Creatinine_map)\n",
        "\n",
        "df_enc_disc[\"RSC\"] = df_enc_disc[\"RSC\"].map(RSC_map)\n",
        "\n",
        "df_enc_disc[\"Tidal_ml\"] = df_enc_disc[\"Tidal_ml\"].map(Tidal_ml_map)\n",
        "\n",
        "df_enc_disc[\"Total_PEEP_cmH2O\"] = \\\n",
        "  df_enc_disc[\"Total_PEEP_cmH2O\"].map(Total_PEEP_cmH2O_map)\n",
        "\n",
        "df_enc_disc[\"HCO3\"] = df_enc_disc[\"HCO3\"].map(HCO3_map)"
      ],
      "execution_count": 0,
      "outputs": []
    },
    {
      "cell_type": "markdown",
      "metadata": {
        "id": "1GNgUBX8opz_",
        "colab_type": "text"
      },
      "source": [
        "## SCM"
      ]
    },
    {
      "cell_type": "code",
      "metadata": {
        "id": "qT7Rk4TipZJB",
        "colab_type": "code",
        "colab": {}
      },
      "source": [
        "! apt-get install -y graphviz-dev\n",
        "! pip install pygraphviz"
      ],
      "execution_count": 0,
      "outputs": []
    },
    {
      "cell_type": "code",
      "metadata": {
        "id": "3fpq_8oQpLez",
        "colab_type": "code",
        "colab": {}
      },
      "source": [
        "from IPython.display import Image\n",
        "from causalnex.plots import plot_structure, NODE_STYLE, EDGE_STYLE\n",
        "import warnings\n",
        "warnings.filterwarnings('ignore')"
      ],
      "execution_count": 0,
      "outputs": []
    },
    {
      "cell_type": "code",
      "metadata": {
        "id": "m1yktN-Woxge",
        "colab_type": "code",
        "colab": {}
      },
      "source": [
        "from causalnex.structure.notears import from_pandas\n",
        "sm = from_pandas(df_enc_cont)"
      ],
      "execution_count": 0,
      "outputs": []
    },
    {
      "cell_type": "code",
      "metadata": {
        "id": "SeyMLLFLpvX5",
        "colab_type": "code",
        "colab": {}
      },
      "source": [
        "sm.remove_edges_below_threshold(0.1)\n",
        "sm = sm.get_largest_subgraph()"
      ],
      "execution_count": 0,
      "outputs": []
    },
    {
      "cell_type": "code",
      "metadata": {
        "id": "KlwAz5IvpFzU",
        "colab_type": "code",
        "outputId": "a7861cdd-0a09-4600-bdd2-489b0f9607a1",
        "colab": {
          "base_uri": "https://localhost:8080/",
          "height": 819
        }
      },
      "source": [
        "viz = plot_structure(\n",
        "    sm,\n",
        "    graph_attributes={\"scale\": \"0.9\"},\n",
        "    all_node_attributes=NODE_STYLE.WEAK,\n",
        "    all_edge_attributes=EDGE_STYLE.WEAK)\n",
        "filename = \"./structure_model.png\"\n",
        "viz.draw(filename)\n",
        "Image(filename)"
      ],
      "execution_count": 14,
      "outputs": [
        {
          "output_type": "execute_result",
          "data": {
            "image/png": "[encoded data removed]",
            "text/plain": [
              "<IPython.core.display.Image object>"
            ]
          },
          "metadata": {
            "tags": []
          },
          "execution_count": 14
        }
      ]
    },
    {
      "cell_type": "markdown",
      "metadata": {
        "id": "PwFrkl-PX4t2",
        "colab_type": "text"
      },
      "source": [
        "Having no expert knowledge to draw on, we leave the SCM in this form. We see that it is a valid DAG."
      ]
    },
    {
      "cell_type": "markdown",
      "metadata": {
        "id": "C8-Hbg0iXLaY",
        "colab_type": "text"
      },
      "source": [
        "## Bayesian Network"
      ]
    },
    {
      "cell_type": "code",
      "metadata": {
        "id": "8ui7T6xpXPAR",
        "colab_type": "code",
        "colab": {}
      },
      "source": [
        "from causalnex.network import BayesianNetwork\n",
        "bn = BayesianNetwork(sm)"
      ],
      "execution_count": 0,
      "outputs": []
    },
    {
      "cell_type": "code",
      "metadata": {
        "id": "Ole42uxlXYcs",
        "colab_type": "code",
        "colab": {}
      },
      "source": [
        "from sklearn.model_selection import train_test_split\n",
        "\n",
        "train, test = train_test_split(df_enc_disc, train_size=0.9,\\\n",
        "  test_size=0.1, random_state=7)"
      ],
      "execution_count": 0,
      "outputs": []
    },
    {
      "cell_type": "code",
      "metadata": {
        "id": "-sD0vgZDXmiu",
        "colab_type": "code",
        "colab": {}
      },
      "source": [
        "bn = bn.fit_node_states(df_enc_disc)"
      ],
      "execution_count": 0,
      "outputs": []
    },
    {
      "cell_type": "code",
      "metadata": {
        "id": "5wfG1ro4XtwF",
        "colab_type": "code",
        "colab": {}
      },
      "source": [
        "bn = bn.fit_cpds(train, method='BayesianEstimator', bayes_prior='K2')"
      ],
      "execution_count": 0,
      "outputs": []
    },
    {
      "cell_type": "code",
      "metadata": {
        "id": "aVxcdsHpXyIm",
        "colab_type": "code",
        "colab": {
          "base_uri": "https://localhost:8080/",
          "height": 241
        },
        "outputId": "d8c00384-f969-4c3d-d02f-1a71f128fc2f"
      },
      "source": [
        "bn.cpds['ARDS']"
      ],
      "execution_count": 40,
      "outputs": [
        {
          "output_type": "execute_result",
          "data": {
            "text/html": [
              "<div>\n",
              "<style scoped>\n",
              "    .dataframe tbody tr th:only-of-type {\n",
              "        vertical-align: middle;\n",
              "    }\n",
              "\n",
              "    .dataframe tbody tr th {\n",
              "        vertical-align: top;\n",
              "    }\n",
              "\n",
              "    .dataframe thead tr th {\n",
              "        text-align: left;\n",
              "    }\n",
              "\n",
              "    .dataframe thead tr:last-of-type th {\n",
              "        text-align: right;\n",
              "    }\n",
              "</style>\n",
              "<table border=\"1\" class=\"dataframe\">\n",
              "  <thead>\n",
              "    <tr>\n",
              "      <th>FiO2</th>\n",
              "      <th colspan=\"15\" halign=\"left\">High FiO2</th>\n",
              "      <th colspan=\"15\" halign=\"left\">Normal FiO2</th>\n",
              "    </tr>\n",
              "    <tr>\n",
              "      <th>PaO2</th>\n",
              "      <th colspan=\"5\" halign=\"left\">High PaO2</th>\n",
              "      <th colspan=\"5\" halign=\"left\">Low PaO2</th>\n",
              "      <th colspan=\"5\" halign=\"left\">Normal PaO2</th>\n",
              "      <th colspan=\"5\" halign=\"left\">High PaO2</th>\n",
              "      <th colspan=\"5\" halign=\"left\">Low PaO2</th>\n",
              "      <th colspan=\"5\" halign=\"left\">Normal PaO2</th>\n",
              "    </tr>\n",
              "    <tr>\n",
              "      <th>Total_PEEP_cmH2O</th>\n",
              "      <th>Total_PEEP_cmH2O 1</th>\n",
              "      <th>Total_PEEP_cmH2O 2</th>\n",
              "      <th>Total_PEEP_cmH2O 3</th>\n",
              "      <th>Total_PEEP_cmH2O 4</th>\n",
              "      <th>Total_PEEP_cmH2O 5</th>\n",
              "      <th>Total_PEEP_cmH2O 1</th>\n",
              "      <th>Total_PEEP_cmH2O 2</th>\n",
              "      <th>Total_PEEP_cmH2O 3</th>\n",
              "      <th>Total_PEEP_cmH2O 4</th>\n",
              "      <th>Total_PEEP_cmH2O 5</th>\n",
              "      <th>Total_PEEP_cmH2O 1</th>\n",
              "      <th>Total_PEEP_cmH2O 2</th>\n",
              "      <th>Total_PEEP_cmH2O 3</th>\n",
              "      <th>Total_PEEP_cmH2O 4</th>\n",
              "      <th>Total_PEEP_cmH2O 5</th>\n",
              "      <th>Total_PEEP_cmH2O 1</th>\n",
              "      <th>Total_PEEP_cmH2O 2</th>\n",
              "      <th>Total_PEEP_cmH2O 3</th>\n",
              "      <th>Total_PEEP_cmH2O 4</th>\n",
              "      <th>Total_PEEP_cmH2O 5</th>\n",
              "      <th>Total_PEEP_cmH2O 1</th>\n",
              "      <th>Total_PEEP_cmH2O 2</th>\n",
              "      <th>Total_PEEP_cmH2O 3</th>\n",
              "      <th>Total_PEEP_cmH2O 4</th>\n",
              "      <th>Total_PEEP_cmH2O 5</th>\n",
              "      <th>Total_PEEP_cmH2O 1</th>\n",
              "      <th>Total_PEEP_cmH2O 2</th>\n",
              "      <th>Total_PEEP_cmH2O 3</th>\n",
              "      <th>Total_PEEP_cmH2O 4</th>\n",
              "      <th>Total_PEEP_cmH2O 5</th>\n",
              "    </tr>\n",
              "    <tr>\n",
              "      <th>ARDS</th>\n",
              "      <th></th>\n",
              "      <th></th>\n",
              "      <th></th>\n",
              "      <th></th>\n",
              "      <th></th>\n",
              "      <th></th>\n",
              "      <th></th>\n",
              "      <th></th>\n",
              "      <th></th>\n",
              "      <th></th>\n",
              "      <th></th>\n",
              "      <th></th>\n",
              "      <th></th>\n",
              "      <th></th>\n",
              "      <th></th>\n",
              "      <th></th>\n",
              "      <th></th>\n",
              "      <th></th>\n",
              "      <th></th>\n",
              "      <th></th>\n",
              "      <th></th>\n",
              "      <th></th>\n",
              "      <th></th>\n",
              "      <th></th>\n",
              "      <th></th>\n",
              "      <th></th>\n",
              "      <th></th>\n",
              "      <th></th>\n",
              "      <th></th>\n",
              "      <th></th>\n",
              "    </tr>\n",
              "  </thead>\n",
              "  <tbody>\n",
              "    <tr>\n",
              "      <th>0.0</th>\n",
              "      <td>0.625</td>\n",
              "      <td>0.657593</td>\n",
              "      <td>0.655941</td>\n",
              "      <td>0.498224</td>\n",
              "      <td>0.408647</td>\n",
              "      <td>0.625</td>\n",
              "      <td>0.457364</td>\n",
              "      <td>0.5</td>\n",
              "      <td>0.390625</td>\n",
              "      <td>0.368056</td>\n",
              "      <td>0.411765</td>\n",
              "      <td>0.483173</td>\n",
              "      <td>0.516129</td>\n",
              "      <td>0.423868</td>\n",
              "      <td>0.357942</td>\n",
              "      <td>0.5</td>\n",
              "      <td>0.75</td>\n",
              "      <td>0.666667</td>\n",
              "      <td>0.2</td>\n",
              "      <td>0.5</td>\n",
              "      <td>0.5</td>\n",
              "      <td>0.333333</td>\n",
              "      <td>0.5</td>\n",
              "      <td>0.333333</td>\n",
              "      <td>0.5</td>\n",
              "      <td>0.5</td>\n",
              "      <td>0.5</td>\n",
              "      <td>0.2</td>\n",
              "      <td>0.5</td>\n",
              "      <td>0.5</td>\n",
              "    </tr>\n",
              "    <tr>\n",
              "      <th>1.0</th>\n",
              "      <td>0.375</td>\n",
              "      <td>0.342407</td>\n",
              "      <td>0.344059</td>\n",
              "      <td>0.501776</td>\n",
              "      <td>0.591353</td>\n",
              "      <td>0.375</td>\n",
              "      <td>0.542636</td>\n",
              "      <td>0.5</td>\n",
              "      <td>0.609375</td>\n",
              "      <td>0.631944</td>\n",
              "      <td>0.588235</td>\n",
              "      <td>0.516827</td>\n",
              "      <td>0.483871</td>\n",
              "      <td>0.576132</td>\n",
              "      <td>0.642058</td>\n",
              "      <td>0.5</td>\n",
              "      <td>0.25</td>\n",
              "      <td>0.333333</td>\n",
              "      <td>0.8</td>\n",
              "      <td>0.5</td>\n",
              "      <td>0.5</td>\n",
              "      <td>0.666667</td>\n",
              "      <td>0.5</td>\n",
              "      <td>0.666667</td>\n",
              "      <td>0.5</td>\n",
              "      <td>0.5</td>\n",
              "      <td>0.5</td>\n",
              "      <td>0.8</td>\n",
              "      <td>0.5</td>\n",
              "      <td>0.5</td>\n",
              "    </tr>\n",
              "  </tbody>\n",
              "</table>\n",
              "</div>"
            ],
            "text/plain": [
              "FiO2                      High FiO2  ...        Normal FiO2\n",
              "PaO2                      High PaO2  ...        Normal PaO2\n",
              "Total_PEEP_cmH2O Total_PEEP_cmH2O 1  ... Total_PEEP_cmH2O 5\n",
              "ARDS                                 ...                   \n",
              "0.0                           0.625  ...                0.5\n",
              "1.0                           0.375  ...                0.5\n",
              "\n",
              "[2 rows x 30 columns]"
            ]
          },
          "metadata": {
            "tags": []
          },
          "execution_count": 40
        }
      ]
    }
  ]
}