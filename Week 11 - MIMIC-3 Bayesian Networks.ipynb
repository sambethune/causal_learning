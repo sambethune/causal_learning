{
  "nbformat": 4,
  "nbformat_minor": 0,
  "metadata": {
    "colab": {
      "name": "Week 11 - MIMIC-3 Bayesian Networks.ipynb",
      "provenance": [],
      "collapsed_sections": [
        "LsrR1eUIbdE8",
        "1GNgUBX8opz_"
      ],
      "authorship_tag": "ABX9TyNpuYV46F2nX94e8QAieSxj"
    },
    "kernelspec": {
      "name": "python3",
      "display_name": "Python 3"
    }
  },
  "cells": [
    {
      "cell_type": "markdown",
      "metadata": {
        "id": "PxpdGo3-YrkB",
        "colab_type": "text"
      },
      "source": [
        "## MIMIC-3 Analysis: Bayesian Networks, Model Evaluation, Manual SCM"
      ]
    },
    {
      "cell_type": "markdown",
      "metadata": {
        "id": "gAat36Offom4",
        "colab_type": "text"
      },
      "source": [
        "With our SCM's, which do not appear robust, we will develop and test Bayesian networks. We will also do the same for a manually created SCM."
      ]
    },
    {
      "cell_type": "markdown",
      "metadata": {
        "id": "LsrR1eUIbdE8",
        "colab_type": "text"
      },
      "source": [
        "## Configuration"
      ]
    },
    {
      "cell_type": "markdown",
      "metadata": {
        "id": "8tf1-Wmt0bWr",
        "colab_type": "text"
      },
      "source": [
        "These cells remain the same as last week."
      ]
    },
    {
      "cell_type": "code",
      "metadata": {
        "id": "dCbcHwGvZEt5",
        "colab_type": "code",
        "colab": {}
      },
      "source": [
        "from google.colab import drive, files\n",
        "drive.mount('/content/drive')"
      ],
      "execution_count": 0,
      "outputs": []
    },
    {
      "cell_type": "code",
      "metadata": {
        "id": "zIqbeLi6ZxzU",
        "colab_type": "code",
        "colab": {}
      },
      "source": [
        "% cd /content/drive/My Drive/SCIE3250 Journal/Week 11"
      ],
      "execution_count": 0,
      "outputs": []
    },
    {
      "cell_type": "code",
      "metadata": {
        "id": "1CEXB9adZWQC",
        "colab_type": "code",
        "colab": {}
      },
      "source": [
        "# Need to restart runtime following this install\n",
        "! pip install causalnex\n",
        "! pip install --upgrade pandas==0.24.0  # We require this version of pandas"
      ],
      "execution_count": 0,
      "outputs": []
    },
    {
      "cell_type": "code",
      "metadata": {
        "id": "z2QUiAyXWlND",
        "colab_type": "code",
        "colab": {}
      },
      "source": [
        "import warnings\n",
        "warnings.filterwarnings('ignore')"
      ],
      "execution_count": 0,
      "outputs": []
    },
    {
      "cell_type": "code",
      "metadata": {
        "id": "QzhKxUQ2ZhNX",
        "colab_type": "code",
        "colab": {}
      },
      "source": [
        "files.upload()"
      ],
      "execution_count": 0,
      "outputs": []
    },
    {
      "cell_type": "code",
      "metadata": {
        "id": "SVBVO7vBZ3yL",
        "colab_type": "code",
        "colab": {}
      },
      "source": [
        "import pandas as pd\n",
        "df = pd.read_csv('mimic_day_blocks_ARDS2.csv', delimiter=',')"
      ],
      "execution_count": 0,
      "outputs": []
    },
    {
      "cell_type": "code",
      "metadata": {
        "id": "5w2OXiEYsfOj",
        "colab_type": "code",
        "colab": {}
      },
      "source": [
        "import numpy as np\n",
        "df_enc = df.copy()\n",
        "\n",
        "non_numeric_columns = ['GENDER', 'AGE_INTERVALS']\n",
        "\n",
        "from sklearn.preprocessing import LabelEncoder\n",
        "\n",
        "le = LabelEncoder()\n",
        "for col in non_numeric_columns:\n",
        "    df_enc[col] = le.fit_transform(df_enc[col])"
      ],
      "execution_count": 0,
      "outputs": []
    },
    {
      "cell_type": "markdown",
      "metadata": {
        "id": "YHKvuTiLBoJd",
        "colab_type": "text"
      },
      "source": [
        "## Feature Engineering, Imputation"
      ]
    },
    {
      "cell_type": "markdown",
      "metadata": {
        "id": "C8MeboLedZV2",
        "colab_type": "text"
      },
      "source": [
        "These cells also remain the same as last week."
      ]
    },
    {
      "cell_type": "code",
      "metadata": {
        "id": "ROh-i4tjJbmp",
        "colab_type": "code",
        "colab": {}
      },
      "source": [
        "import numpy as np\n",
        "df_enc = df.copy()\n",
        "\n",
        "# Encode discrete variables\n",
        "non_numeric_columns = ['GENDER', 'AGE_INTERVALS']\n",
        "\n",
        "from sklearn.preprocessing import LabelEncoder\n",
        "\n",
        "le = LabelEncoder()\n",
        "for col in non_numeric_columns:\n",
        "    df_enc[col] = le.fit_transform(df_enc[col])\n",
        "\n",
        "# Create additional features\n",
        "df_enc['Driving_Pressure'] = df_enc['Plateau_Pressure_cmH2O'] - \\\n",
        "  df_enc['Total_PEEP_cmH2O']\n",
        "df_enc['Tidal_ml/BMI'] = df_enc['Tidal_ml']/df_enc['BMI']\n",
        "df_enc['Driving_Pressure/BMI'] = df_enc['Driving_Pressure']/df_enc['BMI']\n",
        "\n",
        "# Remove obsolete features\n",
        "drops = ['PaO2', 'FiO2', 'Tidal_ml', 'Plateau_Pressure_cmH2O', \\\n",
        "  'Total_PEEP_cmH2O', 'AGE_INTERVALS']\n",
        "df_enc = df_enc.drop(columns=drops)"
      ],
      "execution_count": 0,
      "outputs": []
    },
    {
      "cell_type": "code",
      "metadata": {
        "id": "0kReZBRIglil",
        "colab_type": "code",
        "colab": {}
      },
      "source": [
        "def add_series_list(col_list, df=df_e):\n",
        "  # Find the time series for a list of parameters and add to df_e\n",
        "  for col in col_list:\n",
        "    df[col + ' Change'] = find_series(col)\n",
        "\n",
        "  return df.dropna()"
      ],
      "execution_count": 0,
      "outputs": []
    },
    {
      "cell_type": "code",
      "metadata": {
        "id": "QQGarsKwZ031",
        "colab_type": "code",
        "colab": {}
      },
      "source": [
        "def find_series(col, df=df_e):\n",
        "  # Find daily flux in a given parameter\n",
        "  diff_col = np.zeros(len(df[col]))\n",
        "  diff_col[0] = np.nan\n",
        "  diff_col = pd.Series(diff_col)\n",
        "  \n",
        "\n",
        "  for i in range(len(diff_col)-1, -1, -1):\n",
        "\n",
        "    if i != 0:\n",
        "\n",
        "      if df['HADM_ID'][i] == df['HADM_ID'][i-1]:\n",
        "        diff_col[i] = np.abs(df[col][i] - df[col][i-1])\n",
        "\n",
        "      else:\n",
        "        diff_col[i] = np.nan\n",
        "\n",
        "  return diff_col"
      ],
      "execution_count": 0,
      "outputs": []
    },
    {
      "cell_type": "code",
      "metadata": {
        "id": "nDPPdvzwZBKS",
        "colab_type": "code",
        "colab": {}
      },
      "source": [
        " def impute(df_e):\n",
        "  # Replace infinities with nan\n",
        "  df_e.replace([-np.inf, np.inf], np.nan, inplace=True)\n",
        "\n",
        "  # Do not remove zeroes from discrete variables\n",
        "  cols_disc = ['HADM_ID', 'CHARTDATE', 'ARDS', 'GENDER', 'AGE_INTERVALS']\n",
        "  cols_cont = [i for i in df_e.columns if i not in cols_disc]\n",
        "\n",
        "  from sklearn.preprocessing import scale\n",
        "\n",
        "  # Replace outliers 3 standard devs or more away with nan, scale cont vars\n",
        "  for col in cols_cont:\n",
        "    df_e[col] = df_e[col].mask(df_e[col].values - df_e[col].mean() > \\\n",
        "      3*df_e[col].std(), other=np.nan)\n",
        "    df_e[col] = scale(df_e[col])\n",
        "\n",
        "  # Impute all nan with K clustering, not on variables that don't make sense\n",
        "  from sklearn.impute import KNNImputer\n",
        "\n",
        "  # Remove, store irrelevant columns\n",
        "  store_vars = ['HADM_ID', 'CHARTDATE']\n",
        "  store_inds = [df_e.columns.get_loc(i) for i in store_vars]\n",
        "  df_store = df_e[store_vars]\n",
        "  df_e = df_e.drop(columns=store_vars)\n",
        "\n",
        "  # Copy df_e to check how many values are imputed\n",
        "  df_check = df_e.copy()\n",
        "\n",
        "  # Store parameter labels of df_e\n",
        "  my_columns = df_e.columns\n",
        "\n",
        "  # Impute over relevant columns\n",
        "  imp = KNNImputer(missing_values=np.nan)\n",
        "  df_e = pd.DataFrame(imp.fit_transform(df_e), columns=my_columns)\n",
        "\n",
        "  # Count imputations\n",
        "  num_imp = df_check.size - np.sum(np.sum(df_e.values==df_check.values))\n",
        "\n",
        "  # Restore irrelevant columns in original order for ease of viewing\n",
        "  for i in range(len(store_vars)):\n",
        "    df_e.insert(store_inds[i], store_vars[i], df_store[store_vars[i]])\n",
        "\n",
        "  return df_e"
      ],
      "execution_count": 0,
      "outputs": []
    },
    {
      "cell_type": "code",
      "metadata": {
        "id": "481iopPGMM5M",
        "colab_type": "code",
        "colab": {}
      },
      "source": [
        "df_e = df_enc.copy()\n",
        "\n",
        "df_e = add_series_list(['Creatinine', 'PaO2/FiO2', 'RSC', 'HCO3', 'PaCO2', \\\n",
        "  'Driving_Pressure', 'Tidal_ml/BMI', 'Driving_Pressure/BMI'])\n",
        "df_e = impute(df_e)\n",
        "\n",
        "drops = ['HADM_ID', 'CHARTDATE']\n",
        "df_e = df_e.drop(columns=drops)"
      ],
      "execution_count": 0,
      "outputs": []
    },
    {
      "cell_type": "markdown",
      "metadata": {
        "id": "1GNgUBX8opz_",
        "colab_type": "text"
      },
      "source": [
        "## SCM's"
      ]
    },
    {
      "cell_type": "code",
      "metadata": {
        "id": "qT7Rk4TipZJB",
        "colab_type": "code",
        "colab": {}
      },
      "source": [
        "! apt-get install -y graphviz-dev  # We require the developer version\n",
        "! pip install pygraphviz"
      ],
      "execution_count": 0,
      "outputs": []
    },
    {
      "cell_type": "code",
      "metadata": {
        "id": "3fpq_8oQpLez",
        "colab_type": "code",
        "colab": {}
      },
      "source": [
        "from IPython.display import Image\n",
        "from causalnex.plots import plot_structure, NODE_STYLE, EDGE_STYLE\n",
        "from causalnex.structure.notears import from_pandas"
      ],
      "execution_count": 0,
      "outputs": []
    },
    {
      "cell_type": "markdown",
      "metadata": {
        "id": "Ek_elwAT_zEE",
        "colab_type": "text"
      },
      "source": [
        "% LATEX BEGINNING\n",
        "\n",
        "We begin exploring our dataset by developing SCM's excluding temporal parameters. From here on in we forbid all source nodes, \\url{GENDER}, \\url{AGE}, from being children of any other node and will delete trivial relations between created parameters and their components such as \\url{Driving_Pressure/BMI} $\\rightarrow$ \\url{Driving_Pressure} and \\url{Driving_Pressure} $\\rightarrow$ \\url{RSC}. Additionally we ban \\url{ARDS} from being a parent of any other node.\n",
        "\n",
        "% LATEX END"
      ]
    },
    {
      "cell_type": "code",
      "metadata": {
        "id": "zxsLG4TPqMws",
        "colab_type": "code",
        "colab": {}
      },
      "source": [
        "df_e = df_enc.copy()\n",
        "\n",
        "df_e = impute(df_e)\n",
        "\n",
        "drops = ['HADM_ID', 'CHARTDATE']\n",
        "df_e = df_e.drop(columns=drops)"
      ],
      "execution_count": 0,
      "outputs": []
    },
    {
      "cell_type": "code",
      "metadata": {
        "id": "m1yktN-Woxge",
        "colab_type": "code",
        "colab": {}
      },
      "source": [
        "sm = from_pandas(df_e, tabu_child_nodes=['GENDER', 'AGE', 'BMI'], \\\n",
        "  tabu_parent_nodes=['ARDS'])"
      ],
      "execution_count": 0,
      "outputs": []
    },
    {
      "cell_type": "code",
      "metadata": {
        "id": "MD8Zdq4OYekM",
        "colab_type": "code",
        "outputId": "40e7ebf9-1f3e-4cc7-8f50-03b1d2551f68",
        "colab": {
          "base_uri": "https://localhost:8080/",
          "height": 181
        }
      },
      "source": [
        "sm_t = sm.copy()\n",
        "sm_t.remove_edges_below_threshold(0.5)\n",
        "# We know that these are isolates or undesirable so remove them for viewing\n",
        "sm_t.remove_nodes_from(['RSC', 'PaO2/FiO2', 'ARDS', 'AGE', 'GENDER',\n",
        "  'Creatinine', 'Driving_Pressure/BMI', 'Tidal_ml/BMI'])\n",
        "\n",
        "viz = plot_structure(\n",
        "    sm_t,\n",
        "    all_node_attributes={'color': None, 'shape': 'square', \\\n",
        "      'fillcolor': 'black', 'fontcolor': 'black', 'fontname': 'courier'},\n",
        "    all_edge_attributes={'color': 'blue'},\n",
        "    graph_attributes={'bgcolor': 'white', 'size': 2})\n",
        "filename = \"./structure_model.png\"\n",
        "viz.draw(filename)\n",
        "Image(filename)"
      ],
      "execution_count": 0,
      "outputs": [
        {
          "output_type": "execute_result",
          "data": {
            "image/png": "[encoded data removed]",
            "text/plain": [
              "<IPython.core.display.Image object>"
            ]
          },
          "metadata": {
            "tags": []
          },
          "execution_count": 214
        }
      ]
    },
    {
      "cell_type": "code",
      "metadata": {
        "id": "Vm17zOt8P8om",
        "colab_type": "code",
        "outputId": "4171d7fc-109c-4360-fbf1-893c93f0ee62",
        "colab": {
          "base_uri": "https://localhost:8080/",
          "height": 216
        }
      },
      "source": [
        "sm_t = sm.copy()\n",
        "sm_t.remove_edges_below_threshold(0.3)\n",
        "forbidden_edges = [('BMI', 'Driving_Pressure/BMI'), ('Driving_Pressure/BMI', \\\n",
        "  'Driving_Pressure'), ('Tidal_ml', 'Driving_Pressure/BMI'), ('Tidal_ml/BMI',\\\n",
        "  'RSC'), ('Driving_Pressure/BMI','Tidal_ml/BMI'), ('BMI','Tidal_ml/BMI'), \\\n",
        "  ('Driving_Pressure','Tidal_ml/BMI')]\n",
        "sm_t.remove_edges_from(forbidden_edges)\n",
        "\n",
        "sm_t.remove_nodes_from(['RSC', 'PaO2/FiO2', 'AGE', 'Creatinine', \\\n",
        "  'Driving_Pressure/BMI', 'Tidal_ml/BMI'])\n",
        "\n",
        "viz = plot_structure(\n",
        "    sm_t,\n",
        "    all_node_attributes={'color': None, 'shape': 'square', \\\n",
        "      'fillcolor': 'black', 'fontcolor': 'black', 'fontname': 'courier'},\n",
        "    all_edge_attributes={'color': 'indigo'},\n",
        "    graph_attributes={'bgcolor': 'white', 'size': 2})\n",
        "filename = \"./structure_model.png\"\n",
        "viz.draw(filename)\n",
        "Image(filename)"
      ],
      "execution_count": 0,
      "outputs": [
        {
          "output_type": "execute_result",
          "data": {
            "image/png": "[encoded data removed]",
            "text/plain": [
              "<IPython.core.display.Image object>"
            ]
          },
          "metadata": {
            "tags": []
          },
          "execution_count": 145
        }
      ]
    },
    {
      "cell_type": "code",
      "metadata": {
        "id": "jjDPE-gM_TX3",
        "colab_type": "code",
        "outputId": "fd5b7932-49e7-4fce-c723-02bf843d407c",
        "colab": {
          "base_uri": "https://localhost:8080/",
          "height": 617
        }
      },
      "source": [
        "sm_t = sm.copy()\n",
        "sm_t.remove_edges_below_threshold(0.1)\n",
        "forbidden_edges = [('BMI', 'Driving_Pressure/BMI'), ('Driving_Pressure/BMI', \\\n",
        "  'Driving_Pressure'), ('Tidal_ml', 'Driving_Pressure/BMI'), ('Tidal_ml/BMI',\\\n",
        "  'RSC'), ('Driving_Pressure/BMI','Tidal_ml/BMI'), ('BMI','Tidal_ml/BMI'), \\\n",
        "  ('Driving_Pressure','Tidal_ml/BMI'), ('Driving_Pressure/BMI', 'RSC')]\n",
        "sm_t.remove_edges_from(forbidden_edges)\n",
        "\n",
        "sm_t.remove_nodes_from(['AGE'])\n",
        "\n",
        "viz = plot_structure(\n",
        "    sm_t,\n",
        "    all_node_attributes={'color': None, 'shape': 'square', \\\n",
        "      'fillcolor': 'black', 'fontcolor': 'black', 'fontname': 'courier'},\n",
        "    all_edge_attributes={'color': 'red'},\n",
        "    graph_attributes={'bgcolor': 'white', 'size': 2})\n",
        "filename = \"./structure_model.png\"\n",
        "viz.draw(filename)\n",
        "Image(filename)"
      ],
      "execution_count": 0,
      "outputs": [
        {
          "output_type": "execute_result",
          "data": {
            "image/png": "[encoded data removed]",
            "text/plain": [
              "<IPython.core.display.Image object>"
            ]
          },
          "metadata": {
            "tags": []
          },
          "execution_count": 193
        }
      ]
    },
    {
      "cell_type": "markdown",
      "metadata": {
        "id": "z6u8tT4Jd-0U",
        "colab_type": "text"
      },
      "source": [
        "We see that without temporal parameters our structure is not robust. Accordingly we introduce them, now also forbidding trivial edges such as \\url{HCO3_Change} $\\rightarrow$ \\url{HCO3}."
      ]
    },
    {
      "cell_type": "code",
      "metadata": {
        "id": "a9g_nr5K_rWc",
        "colab_type": "code",
        "colab": {}
      },
      "source": [
        "df_e = df_enc.copy()\n",
        "\n",
        "df_e = add_series_list(['Creatinine', 'PaO2/FiO2', 'RSC', 'HCO3', 'PaCO2',\\\n",
        "  'Driving_Pressure', 'Driving_Pressure/BMI', 'Tidal_ml/BMI'])\n",
        "df_e = impute(df_e)\n",
        "\n",
        "drops = ['HADM_ID', 'CHARTDATE']\n",
        "df_e = df_e.drop(columns=drops)"
      ],
      "execution_count": 0,
      "outputs": []
    },
    {
      "cell_type": "code",
      "metadata": {
        "id": "d4JUjHdj_tCd",
        "colab_type": "code",
        "colab": {}
      },
      "source": [
        "sm = from_pandas(df_e, tabu_child_nodes=['GENDER', 'AGE', 'BMI'], \\\n",
        "  tabu_parent_nodes=['ARDS'])"
      ],
      "execution_count": 0,
      "outputs": []
    },
    {
      "cell_type": "code",
      "metadata": {
        "id": "Q08AqfrD_vYw",
        "colab_type": "code",
        "outputId": "897ca505-6724-442f-9fea-da0042c31ec5",
        "colab": {
          "base_uri": "https://localhost:8080/",
          "height": 216
        }
      },
      "source": [
        "sm_t = sm.copy()\n",
        "sm_t.remove_edges_below_threshold(0.5)\n",
        "forbidden_edges = [('BMI', 'Driving_Pressure/BMI'), ('Driving_Pressure/BMI', \\\n",
        "  'Driving_Pressure'), ('Tidal_ml', 'Driving_Pressure/BMI'), ('Tidal_ml/BMI',\\\n",
        "  'RSC'), ('Driving_Pressure/BMI','Tidal_ml/BMI'), ('BMI','Tidal_ml/BMI'), \\\n",
        "  ('Driving_Pressure','Tidal_ml/BMI'), ('Driving_Pressure_Change', \\\n",
        "  'Driving_Pressure/BMI')]\n",
        "sm_t.remove_edges_from(forbidden_edges)\n",
        "\n",
        "sm_t.remove_nodes_from(['RSC', 'PaO2/FiO2', 'AGE', 'Tidal_ml/BMI', \\\n",
        "  'Driving_Pressure/BMI', 'PaO2/FiO2 Change', 'RSC Change', 'HCO3 Change', \\\n",
        "  'PaCO2 Change', 'Driving_Pressure Change', 'Tidal_ml/BMI Change', \\\n",
        "  'Driving_Pressure/BMI Change', 'Creatinine', 'Creatinine Change'])\n",
        "\n",
        "viz = plot_structure(\n",
        "    sm_t,\n",
        "    all_node_attributes={'color': None, 'shape': 'square', \\\n",
        "      'fillcolor': 'black', 'fontcolor': 'black', 'fontname': 'courier'},\n",
        "    all_edge_attributes={'color': 'blue'},\n",
        "    graph_attributes={'bgcolor': 'white', 'size': 2})\n",
        "filename = \"./structure_model.png\"\n",
        "viz.draw(filename)\n",
        "Image(filename)"
      ],
      "execution_count": 0,
      "outputs": [
        {
          "output_type": "execute_result",
          "data": {
            "image/png": "[encoded data removed]",
            "text/plain": [
              "<IPython.core.display.Image object>"
            ]
          },
          "metadata": {
            "tags": []
          },
          "execution_count": 269
        }
      ]
    },
    {
      "cell_type": "code",
      "metadata": {
        "id": "CyYzzVw5_yuj",
        "colab_type": "code",
        "outputId": "f62d8a54-bd30-4b52-ca77-7f1eae8e56c9",
        "colab": {
          "base_uri": "https://localhost:8080/",
          "height": 471
        }
      },
      "source": [
        "sm_t = sm.copy()\n",
        "sm_t.remove_edges_below_threshold(0.3)\n",
        "forbidden_edges = [('BMI', 'Driving_Pressure/BMI'), ('Driving_Pressure/BMI', \\\n",
        "  'Driving_Pressure'), ('Tidal_ml', 'Driving_Pressure/BMI'), ('Tidal_ml/BMI',\\\n",
        "  'RSC'), ('Driving_Pressure/BMI','Tidal_ml/BMI'), ('BMI','Tidal_ml/BMI'), \\\n",
        "  ('Driving_Pressure','Tidal_ml/BMI'), ('Driving_Pressure_Change', \\\n",
        "  'Driving_Pressure/BMI'), ('RSC_Change', 'Tidal_ml_Change'), \\\n",
        "  ('Driving_Pressure', 'Driving_Pressure/BMI_Change'), \\\n",
        "  ('Driving_Pressure/BMI', 'Driving_Pressure/BMI_Change'), ('PaO2/FiO2', \\\n",
        "  'PaO2/FiO2_Change')]\n",
        "sm_t.remove_edges_from(forbidden_edges)\n",
        "\n",
        "sm_t.remove_nodes_from(['RSC', 'PaO2/FiO2', 'AGE', 'Tidal_ml/BMI', \\\n",
        "  'Driving_Pressure/BMI', 'PaO2/FiO2 Change', 'RSC Change', 'HCO3 Change', \\\n",
        "  'PaCO2 Change', 'Driving_Pressure Change', 'Tidal_ml/BMI Change', \\\n",
        "  'Driving_Pressure/BMI Change', 'Creatinine Change'])\n",
        "\n",
        "viz = plot_structure(\n",
        "    sm_t,\n",
        "    all_node_attributes={'color': None, 'shape': 'square', \\\n",
        "      'fillcolor': 'black', 'fontcolor': 'black', 'fontname': 'courier'},\n",
        "    all_edge_attributes={'color': 'indigo'},\n",
        "    graph_attributes={'bgcolor': 'white', 'size': 2})\n",
        "filename = \"./structure_model.png\"\n",
        "viz.draw(filename)\n",
        "Image(filename)"
      ],
      "execution_count": 35,
      "outputs": [
        {
          "output_type": "execute_result",
          "data": {
            "image/png": "[encoded data removed]",
            "text/plain": [
              "<IPython.core.display.Image object>"
            ]
          },
          "metadata": {
            "tags": []
          },
          "execution_count": 35
        }
      ]
    },
    {
      "cell_type": "markdown",
      "metadata": {
        "id": "qFOEFtXpavN-",
        "colab_type": "text"
      },
      "source": [
        "Once again our structure does not appear robust; this time we try changing our temporal parameters to absolute daily differences to see if we can find a strong SCM."
      ]
    },
    {
      "cell_type": "code",
      "metadata": {
        "id": "NBpuiAWueD20",
        "colab_type": "code",
        "colab": {}
      },
      "source": [
        "df_e = df_enc.copy()\n",
        "\n",
        "df_e = add_series_list(['Creatinine', 'PaO2/FiO2', 'RSC', 'HCO3', 'PaCO2',\\\n",
        "  'Driving_Pressure', 'Driving_Pressure/BMI', 'Tidal_ml/BMI'])\n",
        "df_e = impute(df_e)\n",
        "\n",
        "drops = ['HADM_ID', 'CHARTDATE']\n",
        "df_e = df_e.drop(columns=drops)"
      ],
      "execution_count": 0,
      "outputs": []
    },
    {
      "cell_type": "code",
      "metadata": {
        "id": "hYGH80R9eUVD",
        "colab_type": "code",
        "colab": {}
      },
      "source": [
        "sm = from_pandas(df_e, tabu_child_nodes=['GENDER', 'AGE', 'BMI'], \\\n",
        "  tabu_parent_nodes=['ARDS'])"
      ],
      "execution_count": 0,
      "outputs": []
    },
    {
      "cell_type": "code",
      "metadata": {
        "id": "7g9K0xdfeX5h",
        "colab_type": "code",
        "outputId": "e18e86e3-f40f-4dd6-9c3d-f27145629a33",
        "colab": {
          "base_uri": "https://localhost:8080/",
          "height": 263
        }
      },
      "source": [
        "sm_t = sm.copy()\n",
        "sm_t.remove_edges_below_threshold(0.5)\n",
        "forbidden_edges = [('BMI', 'Driving_Pressure/BMI'), ('Driving_Pressure/BMI', \\\n",
        "  'Driving_Pressure'), ('Tidal_ml', 'Driving_Pressure/BMI'), ('Tidal_ml/BMI',\\\n",
        "  'RSC'), ('Driving_Pressure/BMI','Tidal_ml/BMI'), ('BMI','Tidal_ml/BMI'), \\\n",
        "  ('Driving_Pressure','Tidal_ml/BMI'), ('Driving_Pressure_Change', \\\n",
        "  'Driving_Pressure/BMI')]\n",
        "sm_t.remove_edges_from(forbidden_edges)\n",
        "\n",
        "sm_t.remove_nodes_from(['RSC', 'PaO2/FiO2', 'AGE', 'Tidal_ml/BMI', \\\n",
        "  'Driving_Pressure/BMI', 'PaO2/FiO2 Change', 'RSC Change', 'HCO3 Change', \\\n",
        "  'PaCO2 Change', 'Driving_Pressure Change', 'Tidal_ml/BMI Change', \\\n",
        "  'Driving_Pressure/BMI Change'])\n",
        "\n",
        "viz = plot_structure(\n",
        "    sm_t,\n",
        "    all_node_attributes={'color': None, 'shape': 'square', \\\n",
        "      'fillcolor': 'black', 'fontcolor': 'black', 'fontname': 'courier'},\n",
        "    all_edge_attributes={'color': 'blue'},\n",
        "    graph_attributes={'bgcolor': 'white', 'size': 2})\n",
        "filename = \"./structure_model.png\"\n",
        "viz.draw(filename)\n",
        "Image(filename)"
      ],
      "execution_count": 0,
      "outputs": [
        {
          "output_type": "execute_result",
          "data": {
            "image/png": "[encoded data removed]",
            "text/plain": [
              "<IPython.core.display.Image object>"
            ]
          },
          "metadata": {
            "tags": []
          },
          "execution_count": 234
        }
      ]
    },
    {
      "cell_type": "code",
      "metadata": {
        "id": "o_3Pgk93gpoZ",
        "colab_type": "code",
        "outputId": "2998f15e-96ee-41b9-92e8-19c3400892af",
        "colab": {
          "base_uri": "https://localhost:8080/",
          "height": 617
        }
      },
      "source": [
        "sm_t = sm.copy()\n",
        "sm_t.remove_edges_below_threshold(0.2)\n",
        "forbidden_edges = [('BMI', 'Driving_Pressure/BMI'), ('Driving_Pressure/BMI', \\\n",
        "  'Driving_Pressure'), ('Tidal_ml', 'Driving_Pressure/BMI'), ('Tidal_ml/BMI',\\\n",
        "  'RSC'), ('Driving_Pressure/BMI','Tidal_ml/BMI'), ('BMI','Tidal_ml/BMI'), \\\n",
        "  ('Driving_Pressure','Tidal_ml/BMI'), ('Driving_Pressure_Change', \\\n",
        "  'Driving_Pressure/BMI'), ('RSC_Change', 'Tidal_ml_Change'), \\\n",
        "  ('Driving_Pressure', 'Driving_Pressure/BMI_Change'), \\\n",
        "  ('Driving_Pressure/BMI', 'Driving_Pressure/BMI_Change'), ('PaO2/FiO2', \\\n",
        "  'PaO2/FiO2_Change')]\n",
        "sm_t.remove_edges_from(forbidden_edges)\n",
        "\n",
        "sm_t.remove_nodes_from(['RSC', 'PaO2/FiO2', 'AGE', 'Tidal_ml/BMI', \\\n",
        "  'Driving_Pressure/BMI', 'PaO2/FiO2 Change', 'RSC Change', 'HCO3 Change', \\\n",
        "  'PaCO2 Change', 'Driving_Pressure Change', 'Tidal_ml/BMI Change', \\\n",
        "  'Driving_Pressure/BMI Change'])\n",
        "\n",
        "viz = plot_structure(\n",
        "    sm_t,\n",
        "    all_node_attributes={'color': None, 'shape': 'square', \\\n",
        "      'fillcolor': 'black', 'fontcolor': 'black', 'fontname': 'courier'},\n",
        "    all_edge_attributes={'color': 'blue'},\n",
        "    graph_attributes={'bgcolor': 'white', 'size': 2})\n",
        "filename = \"./structure_model.png\"\n",
        "viz.draw(filename)\n",
        "Image(filename)"
      ],
      "execution_count": 0,
      "outputs": [
        {
          "output_type": "execute_result",
          "data": {
            "image/png": "[encoded data removed]",
            "text/plain": [
              "<IPython.core.display.Image object>"
            ]
          },
          "metadata": {
            "tags": []
          },
          "execution_count": 239
        }
      ]
    },
    {
      "cell_type": "markdown",
      "metadata": {
        "id": "LInEsz_0e9Ix",
        "colab_type": "text"
      },
      "source": [
        "## BN's"
      ]
    },
    {
      "cell_type": "markdown",
      "metadata": {
        "id": "7t_VmdnUlfFP",
        "colab_type": "text"
      },
      "source": [
        "For both the original and absolute time series we take the first model to return a SCM with more than just isolated edges. First we try the original time series. There are a lot of results here so we will cover them separately, especially given most results are similar."
      ]
    },
    {
      "cell_type": "code",
      "metadata": {
        "id": "MM1z8tihZ5Go",
        "colab_type": "code",
        "colab": {}
      },
      "source": [
        "df_e = df_enc.copy()\n",
        "\n",
        "df_e = add_series_list(['Creatinine', 'PaO2/FiO2', 'RSC', 'HCO3', 'PaCO2',\\\n",
        "  'Driving_Pressure', 'Driving_Pressure/BMI', 'Tidal_ml/BMI'])\n",
        "df_e = impute(df_e)\n",
        "\n",
        "drops = ['HADM_ID', 'CHARTDATE']\n",
        "df_e = df_e.drop(columns=drops)"
      ],
      "execution_count": 0,
      "outputs": []
    },
    {
      "cell_type": "code",
      "metadata": {
        "id": "6mNfNoc8d8ex",
        "colab_type": "code",
        "colab": {}
      },
      "source": [
        "sm = from_pandas(df_e, tabu_child_nodes=['GENDER', 'AGE', 'BMI'], \\\n",
        "  tabu_parent_nodes=['ARDS'])"
      ],
      "execution_count": 0,
      "outputs": []
    },
    {
      "cell_type": "code",
      "metadata": {
        "id": "jkNSSFHnd__Z",
        "colab_type": "code",
        "colab": {
          "base_uri": "https://localhost:8080/",
          "height": 471
        },
        "outputId": "9e36b1ba-51a3-4003-98b8-562e25df571a"
      },
      "source": [
        "sm_t = sm.copy()\n",
        "sm_t.remove_edges_below_threshold(0.3)\n",
        "forbidden_edges = [('BMI', 'Driving_Pressure/BMI'), ('Driving_Pressure/BMI', \\\n",
        "  'Driving_Pressure'), ('Tidal_ml', 'Driving_Pressure/BMI'), ('Tidal_ml/BMI',\\\n",
        "  'RSC'), ('Driving_Pressure/BMI','Tidal_ml/BMI'), ('BMI','Tidal_ml/BMI'), \\\n",
        "  ('Driving_Pressure','Tidal_ml/BMI'), ('Driving_Pressure_Change', \\\n",
        "  'Driving_Pressure/BMI'), ('RSC_Change', 'Tidal_ml_Change'), \\\n",
        "  ('Driving_Pressure', 'Driving_Pressure/BMI_Change'), \\\n",
        "  ('Driving_Pressure/BMI', 'Driving_Pressure/BMI_Change'), ('PaO2/FiO2', \\\n",
        "  'PaO2/FiO2_Change')]\n",
        "sm_t.remove_edges_from(forbidden_edges)\n",
        "\n",
        "sm_t.remove_nodes_from(['RSC', 'PaO2/FiO2', 'AGE', 'Tidal_ml/BMI', \\\n",
        "  'Driving_Pressure/BMI', 'PaO2/FiO2 Change', 'RSC Change', 'HCO3 Change', \\\n",
        "  'PaCO2 Change', 'Driving_Pressure Change', 'Tidal_ml/BMI Change', \\\n",
        "  'Driving_Pressure/BMI Change', 'Creatinine Change'])\n",
        "\n",
        "viz = plot_structure(\n",
        "    sm_t,\n",
        "    all_node_attributes={'color': None, 'shape': 'square', \\\n",
        "      'fillcolor': 'black', 'fontcolor': 'black', 'fontname': 'courier'},\n",
        "    all_edge_attributes={'color': 'indigo'},\n",
        "    graph_attributes={'bgcolor': 'white', 'size': 2})\n",
        "filename = \"./structure_model.png\"\n",
        "viz.draw(filename)\n",
        "Image(filename)"
      ],
      "execution_count": 101,
      "outputs": [
        {
          "output_type": "execute_result",
          "data": {
            "image/png": "[encoded data removed]",
            "text/plain": [
              "<IPython.core.display.Image object>"
            ]
          },
          "metadata": {
            "tags": []
          },
          "execution_count": 101
        }
      ]
    },
    {
      "cell_type": "code",
      "metadata": {
        "id": "VHL93HugjJh6",
        "colab_type": "code",
        "colab": {}
      },
      "source": [
        "from causalnex.discretiser import Discretiser\n",
        "from sklearn.model_selection import train_test_split\n",
        "from causalnex.network import BayesianNetwork\n",
        "from causalnex.evaluation import classification_report\n",
        "from causalnex.evaluation import roc_auc\n",
        "import matplotlib.pyplot as plt"
      ],
      "execution_count": 0,
      "outputs": []
    },
    {
      "cell_type": "code",
      "metadata": {
        "id": "icyJZrb6jJzQ",
        "colab_type": "code",
        "colab": {}
      },
      "source": [
        "rem_list = list(sm_t.nodes)\n",
        "df_e_disc = df_e[rem_list]\n",
        "\n",
        "for col in df_e_disc:\n",
        "  df_e_disc[col] = Discretiser(method='quantile', \\\n",
        "  num_buckets=5).fit_transform(df_e_disc[col].values)\n",
        "\n",
        "  my_map = {}\n",
        "\n",
        "  for i in range(0, 5):\n",
        "    my_map[i] = col + '_' + str(i+1)\n",
        "\n",
        "  df_e_disc[col] = df_e_disc[col].map(my_map)"
      ],
      "execution_count": 0,
      "outputs": []
    },
    {
      "cell_type": "markdown",
      "metadata": {
        "id": "e2nqSfLyjUxp",
        "colab_type": "text"
      },
      "source": [
        "We note our \\``random_state=7`\\` (random seed)."
      ]
    },
    {
      "cell_type": "code",
      "metadata": {
        "id": "42zJC21gjYvk",
        "colab_type": "code",
        "colab": {}
      },
      "source": [
        "train, test = train_test_split(df_e_disc, train_size=0.9, \\\n",
        "  test_size=0.1, random_state=7)\n",
        "\n",
        "sm_t = sm_t.get_largest_subgraph()\n",
        "bn = BayesianNetwork(sm_t)\n",
        "bn = bn.fit_node_states(df_e_disc)\n",
        "bn = bn.fit_cpds(train, method=\"BayesianEstimator\", bayes_prior=\"K2\")"
      ],
      "execution_count": 0,
      "outputs": []
    },
    {
      "cell_type": "code",
      "metadata": {
        "id": "fJSfjcJ1jdzK",
        "colab_type": "code",
        "colab": {
          "base_uri": "https://localhost:8080/",
          "height": 510
        },
        "outputId": "85db55ec-699e-4cea-a78d-7b64854883f3"
      },
      "source": [
        "classification_report(bn, test, 'PaCO2')"
      ],
      "execution_count": 34,
      "outputs": [
        {
          "output_type": "execute_result",
          "data": {
            "text/plain": [
              "{'PaCO2_PaCO2_1': {'f1-score': 0.337984496124031,\n",
              "  'precision': 0.20335820895522388,\n",
              "  'recall': 1.0,\n",
              "  'support': 109},\n",
              " 'PaCO2_PaCO2_2': {'f1-score': 0.0,\n",
              "  'precision': 0.0,\n",
              "  'recall': 0.0,\n",
              "  'support': 98},\n",
              " 'PaCO2_PaCO2_3': {'f1-score': 0.0,\n",
              "  'precision': 0.0,\n",
              "  'recall': 0.0,\n",
              "  'support': 112},\n",
              " 'PaCO2_PaCO2_4': {'f1-score': 0.0,\n",
              "  'precision': 0.0,\n",
              "  'recall': 0.0,\n",
              "  'support': 91},\n",
              " 'PaCO2_PaCO2_5': {'f1-score': 0.0,\n",
              "  'precision': 0.0,\n",
              "  'recall': 0.0,\n",
              "  'support': 126},\n",
              " 'accuracy': 0.20335820895522388,\n",
              " 'macro avg': {'f1-score': 0.06759689922480619,\n",
              "  'precision': 0.04067164179104478,\n",
              "  'recall': 0.2,\n",
              "  'support': 536},\n",
              " 'weighted avg': {'f1-score': 0.06873192178641675,\n",
              "  'precision': 0.0413545611494765,\n",
              "  'recall': 0.20335820895522388,\n",
              "  'support': 536}}"
            ]
          },
          "metadata": {
            "tags": []
          },
          "execution_count": 34
        }
      ]
    },
    {
      "cell_type": "code",
      "metadata": {
        "id": "fkTkaA8Rj4R-",
        "colab_type": "code",
        "colab": {
          "base_uri": "https://localhost:8080/",
          "height": 34
        },
        "outputId": "6f8d0b7c-47e3-413a-e052-4503220ee945"
      },
      "source": [
        "roc, auc = roc_auc(bn, test, 'PaCO2')\n",
        "x_diffs_PaCO2 = [roc[i][0] for i in range(len(roc))]\n",
        "y_diffs_PaCO2 = [roc[i][1] for i in range(len(roc))]\n",
        "print(auc)"
      ],
      "execution_count": 40,
      "outputs": [
        {
          "output_type": "stream",
          "text": [
            "0.5\n"
          ],
          "name": "stdout"
        }
      ]
    },
    {
      "cell_type": "code",
      "metadata": {
        "id": "5eXyRheTyMUK",
        "colab_type": "code",
        "colab": {
          "base_uri": "https://localhost:8080/",
          "height": 510
        },
        "outputId": "fac037dd-98da-4e15-9a40-e034a786921c"
      },
      "source": [
        "classification_report(bn, test, 'HCO3')"
      ],
      "execution_count": 103,
      "outputs": [
        {
          "output_type": "execute_result",
          "data": {
            "text/plain": [
              "{'HCO3_HCO3_1': {'f1-score': 0.0,\n",
              "  'precision': 0.0,\n",
              "  'recall': 0.0,\n",
              "  'support': 106},\n",
              " 'HCO3_HCO3_2': {'f1-score': 0.0,\n",
              "  'precision': 0.0,\n",
              "  'recall': 0.0,\n",
              "  'support': 78},\n",
              " 'HCO3_HCO3_3': {'f1-score': 0.0,\n",
              "  'precision': 0.0,\n",
              "  'recall': 0.0,\n",
              "  'support': 87},\n",
              " 'HCO3_HCO3_4': {'f1-score': 0.4441219158200291,\n",
              "  'precision': 0.28544776119402987,\n",
              "  'recall': 1.0,\n",
              "  'support': 153},\n",
              " 'HCO3_HCO3_5': {'f1-score': 0.0,\n",
              "  'precision': 0.0,\n",
              "  'recall': 0.0,\n",
              "  'support': 112},\n",
              " 'accuracy': 0.28544776119402987,\n",
              " 'macro avg': {'f1-score': 0.08882438316400582,\n",
              "  'precision': 0.05708955223880598,\n",
              "  'recall': 0.2,\n",
              "  'support': 536},\n",
              " 'weighted avg': {'f1-score': 0.1267736065680307,\n",
              "  'precision': 0.08148042437068391,\n",
              "  'recall': 0.28544776119402987,\n",
              "  'support': 536}}"
            ]
          },
          "metadata": {
            "tags": []
          },
          "execution_count": 103
        }
      ]
    },
    {
      "cell_type": "code",
      "metadata": {
        "id": "Wcn74XThj7lr",
        "colab_type": "code",
        "colab": {
          "base_uri": "https://localhost:8080/",
          "height": 34
        },
        "outputId": "c90815cd-dad3-425a-cb27-37f4db4dc033"
      },
      "source": [
        "roc, auc = roc_auc(bn, test, 'HCO3')\n",
        "x_diffs_HCO3 = [roc[i][0] for i in range(len(roc))]\n",
        "y_diffs_HCO3 = [roc[i][1] for i in range(len(roc))]\n",
        "print(auc)"
      ],
      "execution_count": 41,
      "outputs": [
        {
          "output_type": "stream",
          "text": [
            "0.5\n"
          ],
          "name": "stdout"
        }
      ]
    },
    {
      "cell_type": "code",
      "metadata": {
        "id": "9LoiqvVElvT1",
        "colab_type": "code",
        "colab": {
          "base_uri": "https://localhost:8080/",
          "height": 323
        },
        "outputId": "e6c5bcbb-fbb3-4072-9ecf-e2af179d38d0"
      },
      "source": [
        "fig, (ax_l, ax_r) = plt.subplots(nrows=1, ncols=2, figsize=(9, 4.5))\n",
        "\n",
        "x_rand = np.linspace(0, 1)\n",
        "y_rand = x_rand\n",
        "\n",
        "ax_l.plot(x_diffs_PaCO2, y_diffs_PaCO2, color='indigo', \\\n",
        "  label='Model, Threshold = 0.3')\n",
        "ax_l.plot(x_rand, y_rand, linestyle='--', color='k', label='Random Selection')\n",
        "ax_l.set_xlabel('Specificity')\n",
        "ax_l.set_ylabel('Sensitivity')\n",
        "ax_l.set_title('PaCO2')\n",
        "\n",
        "ax_r.plot(x_diffs_HCO3, y_diffs_HCO3, color='indigo', \\\n",
        "  label='Model, Threshold = 0.3')\n",
        "ax_r.plot(x_rand, y_rand, linestyle='--', color='k', label='Random Selection')\n",
        "ax_r.set_xlabel('Specificity')\n",
        "ax_r.set_ylabel('Sensitivity')\n",
        "ax_r.set_title('HCO3')\n",
        "\n",
        "ax_l.legend()\n",
        "plt.show()"
      ],
      "execution_count": 108,
      "outputs": [
        {
          "output_type": "display_data",
          "data": {
            "image/png": "[encoded data removed]",
            "text/plain": [
              "<Figure size 648x324 with 2 Axes>"
            ]
          },
          "metadata": {
            "tags": [],
            "needs_background": "light"
          }
        }
      ]
    },
    {
      "cell_type": "markdown",
      "metadata": {
        "id": "hkcM7SfRpfrF",
        "colab_type": "text"
      },
      "source": [
        "Seeing that our model is not useful, we try the absolute time series."
      ]
    },
    {
      "cell_type": "code",
      "metadata": {
        "id": "fa6kdVvCffe4",
        "colab_type": "code",
        "colab": {}
      },
      "source": [
        "df_e = df_enc.copy()\n",
        "\n",
        "df_e = add_series_list(['Creatinine', 'PaO2/FiO2', 'RSC', 'HCO3', 'PaCO2',\\\n",
        "  'Driving_Pressure', 'Driving_Pressure/BMI', 'Tidal_ml/BMI'])\n",
        "df_e = impute(df_e)\n",
        "\n",
        "drops = ['HADM_ID', 'CHARTDATE']\n",
        "df_e = df_e.drop(columns=drops)"
      ],
      "execution_count": 0,
      "outputs": []
    },
    {
      "cell_type": "code",
      "metadata": {
        "id": "DvsBnx04gu74",
        "colab_type": "code",
        "colab": {}
      },
      "source": [
        "sm = from_pandas(df_e, tabu_child_nodes=['GENDER', 'AGE', 'BMI'], \\\n",
        "  tabu_parent_nodes=['ARDS'])"
      ],
      "execution_count": 0,
      "outputs": []
    },
    {
      "cell_type": "code",
      "metadata": {
        "id": "pDJA2ZungWYf",
        "colab_type": "code",
        "colab": {
          "base_uri": "https://localhost:8080/",
          "height": 617
        },
        "outputId": "e145e088-f64e-42d3-bccb-ebf3c3706aca"
      },
      "source": [
        "sm_t = sm.copy()\n",
        "sm_t.remove_edges_below_threshold(0.2)\n",
        "forbidden_edges = [('BMI', 'Driving_Pressure/BMI'), ('Driving_Pressure/BMI', \\\n",
        "  'Driving_Pressure'), ('Tidal_ml', 'Driving_Pressure/BMI'), ('Tidal_ml/BMI',\\\n",
        "  'RSC'), ('Driving_Pressure/BMI','Tidal_ml/BMI'), ('BMI','Tidal_ml/BMI'), \\\n",
        "  ('Driving_Pressure','Tidal_ml/BMI'), ('Driving_Pressure_Change', \\\n",
        "  'Driving_Pressure/BMI'), ('RSC_Change', 'Tidal_ml_Change'), \\\n",
        "  ('Driving_Pressure', 'Driving_Pressure/BMI_Change'), \\\n",
        "  ('Driving_Pressure/BMI', 'Driving_Pressure/BMI_Change'), ('PaO2/FiO2', \\\n",
        "  'PaO2/FiO2_Change')]\n",
        "sm_t.remove_edges_from(forbidden_edges)\n",
        "\n",
        "sm_t.remove_nodes_from(['RSC', 'PaO2/FiO2', 'AGE', 'Tidal_ml/BMI', \\\n",
        "  'Driving_Pressure/BMI', 'PaO2/FiO2 Change', 'RSC Change', 'HCO3 Change', \\\n",
        "  'PaCO2 Change', 'Driving_Pressure Change', 'Tidal_ml/BMI Change', \\\n",
        "  'Driving_Pressure/BMI Change'])\n",
        "\n",
        "viz = plot_structure(\n",
        "    sm_t,\n",
        "    all_node_attributes={'color': None, 'shape': 'square', \\\n",
        "      'fillcolor': 'black', 'fontcolor': 'black', 'fontname': 'courier'},\n",
        "    all_edge_attributes={'color': 'red'},\n",
        "    graph_attributes={'bgcolor': 'white', 'size': 2})\n",
        "filename = \"./structure_model.png\"\n",
        "viz.draw(filename)\n",
        "Image(filename)"
      ],
      "execution_count": 121,
      "outputs": [
        {
          "output_type": "execute_result",
          "data": {
            "image/png": "[encoded data removed]",
            "text/plain": [
              "<IPython.core.display.Image object>"
            ]
          },
          "metadata": {
            "tags": []
          },
          "execution_count": 121
        }
      ]
    },
    {
      "cell_type": "code",
      "metadata": {
        "id": "dNOVVi6fgcv1",
        "colab_type": "code",
        "colab": {}
      },
      "source": [
        "rem_list = list(sm_t.nodes)\n",
        "df_e_disc = df_e[rem_list]\n",
        "\n",
        "for col in df_e_disc:\n",
        "  df_e_disc[col] = Discretiser(method='quantile', \\\n",
        "  num_buckets=5).fit_transform(df_e_disc[col].values)\n",
        "\n",
        "  my_map = {}\n",
        "\n",
        "  for i in range(0, 5):\n",
        "    my_map[i] = col + '_' + str(i+1)\n",
        "\n",
        "  df_e_disc[col] = df_e_disc[col].map(my_map)"
      ],
      "execution_count": 0,
      "outputs": []
    },
    {
      "cell_type": "code",
      "metadata": {
        "id": "LC2kuzvzhdrr",
        "colab_type": "code",
        "colab": {}
      },
      "source": [
        "train, test = train_test_split(df_e_disc, train_size=0.9, \\\n",
        "  test_size=0.1, random_state=7)\n",
        "\n",
        "sm_t = sm_t.get_largest_subgraph()\n",
        "bn = BayesianNetwork(sm_t)\n",
        "bn = bn.fit_node_states(df_e_disc)\n",
        "bn = bn.fit_cpds(train, method=\"BayesianEstimator\", bayes_prior=\"K2\")"
      ],
      "execution_count": 0,
      "outputs": []
    },
    {
      "cell_type": "code",
      "metadata": {
        "id": "R5NAkA7WlsAq",
        "colab_type": "code",
        "colab": {
          "base_uri": "https://localhost:8080/",
          "height": 510
        },
        "outputId": "93814efb-b290-42a4-aa38-ade2d315a3dd"
      },
      "source": [
        "classification_report(bn, test, 'PaCO2')"
      ],
      "execution_count": 124,
      "outputs": [
        {
          "output_type": "execute_result",
          "data": {
            "text/plain": [
              "{'PaCO2_PaCO2_1': {'f1-score': 0.337984496124031,\n",
              "  'precision': 0.20335820895522388,\n",
              "  'recall': 1.0,\n",
              "  'support': 109},\n",
              " 'PaCO2_PaCO2_2': {'f1-score': 0.0,\n",
              "  'precision': 0.0,\n",
              "  'recall': 0.0,\n",
              "  'support': 98},\n",
              " 'PaCO2_PaCO2_3': {'f1-score': 0.0,\n",
              "  'precision': 0.0,\n",
              "  'recall': 0.0,\n",
              "  'support': 112},\n",
              " 'PaCO2_PaCO2_4': {'f1-score': 0.0,\n",
              "  'precision': 0.0,\n",
              "  'recall': 0.0,\n",
              "  'support': 91},\n",
              " 'PaCO2_PaCO2_5': {'f1-score': 0.0,\n",
              "  'precision': 0.0,\n",
              "  'recall': 0.0,\n",
              "  'support': 126},\n",
              " 'accuracy': 0.20335820895522388,\n",
              " 'macro avg': {'f1-score': 0.06759689922480619,\n",
              "  'precision': 0.04067164179104478,\n",
              "  'recall': 0.2,\n",
              "  'support': 536},\n",
              " 'weighted avg': {'f1-score': 0.06873192178641675,\n",
              "  'precision': 0.0413545611494765,\n",
              "  'recall': 0.20335820895522388,\n",
              "  'support': 536}}"
            ]
          },
          "metadata": {
            "tags": []
          },
          "execution_count": 124
        }
      ]
    },
    {
      "cell_type": "code",
      "metadata": {
        "id": "9WmJQp_Nlu-w",
        "colab_type": "code",
        "colab": {
          "base_uri": "https://localhost:8080/",
          "height": 34
        },
        "outputId": "52273321-a086-42f6-a39d-e04ba129c7da"
      },
      "source": [
        "roc, auc = roc_auc(bn, test, 'PaCO2')\n",
        "x_abs_PaCO2 = [roc[i][0] for i in range(len(roc))]\n",
        "y_abs_PaCO2 = [roc[i][1] for i in range(len(roc))]\n",
        "print(auc)"
      ],
      "execution_count": 74,
      "outputs": [
        {
          "output_type": "stream",
          "text": [
            "0.5\n"
          ],
          "name": "stdout"
        }
      ]
    },
    {
      "cell_type": "code",
      "metadata": {
        "id": "7ugXoC60zpS0",
        "colab_type": "code",
        "colab": {
          "base_uri": "https://localhost:8080/",
          "height": 510
        },
        "outputId": "6e9baaa2-f9a8-444a-809b-9fa87778a7c9"
      },
      "source": [
        "classification_report(bn, test, 'Creatinine')"
      ],
      "execution_count": 125,
      "outputs": [
        {
          "output_type": "execute_result",
          "data": {
            "text/plain": [
              "{'Creatinine_Creatinine_1': {'f1-score': 0.28205128205128205,\n",
              "  'precision': 0.16417910447761194,\n",
              "  'recall': 1.0,\n",
              "  'support': 88},\n",
              " 'Creatinine_Creatinine_2': {'f1-score': 0.0,\n",
              "  'precision': 0.0,\n",
              "  'recall': 0.0,\n",
              "  'support': 104},\n",
              " 'Creatinine_Creatinine_3': {'f1-score': 0.0,\n",
              "  'precision': 0.0,\n",
              "  'recall': 0.0,\n",
              "  'support': 133},\n",
              " 'Creatinine_Creatinine_4': {'f1-score': 0.0,\n",
              "  'precision': 0.0,\n",
              "  'recall': 0.0,\n",
              "  'support': 106},\n",
              " 'Creatinine_Creatinine_5': {'f1-score': 0.0,\n",
              "  'precision': 0.0,\n",
              "  'recall': 0.0,\n",
              "  'support': 105},\n",
              " 'accuracy': 0.16417910447761194,\n",
              " 'macro avg': {'f1-score': 0.05641025641025641,\n",
              "  'precision': 0.03283582089552239,\n",
              "  'recall': 0.2,\n",
              "  'support': 536},\n",
              " 'weighted avg': {'f1-score': 0.04630692690394183,\n",
              "  'precision': 0.026954778347070617,\n",
              "  'recall': 0.16417910447761194,\n",
              "  'support': 536}}"
            ]
          },
          "metadata": {
            "tags": []
          },
          "execution_count": 125
        }
      ]
    },
    {
      "cell_type": "code",
      "metadata": {
        "id": "a0DfLmv-rcmy",
        "colab_type": "code",
        "colab": {
          "base_uri": "https://localhost:8080/",
          "height": 34
        },
        "outputId": "5aed54f2-2a32-4a8b-f644-224db696abe6"
      },
      "source": [
        "roc, auc = roc_auc(bn, test, 'Creatinine')\n",
        "x_abs_Creatinine = [roc[i][0] for i in range(len(roc))]\n",
        "y_abs_Creatinine = [roc[i][1] for i in range(len(roc))]\n",
        "print(auc)"
      ],
      "execution_count": 75,
      "outputs": [
        {
          "output_type": "stream",
          "text": [
            "0.5\n"
          ],
          "name": "stdout"
        }
      ]
    },
    {
      "cell_type": "code",
      "metadata": {
        "id": "ozK4JanJzuSz",
        "colab_type": "code",
        "colab": {
          "base_uri": "https://localhost:8080/",
          "height": 442
        },
        "outputId": "5d2b9692-1ef7-49e1-daed-29aa8c9e5865"
      },
      "source": [
        "classification_report(bn, test, 'Creatinine Change')"
      ],
      "execution_count": 127,
      "outputs": [
        {
          "output_type": "execute_result",
          "data": {
            "text/plain": [
              "{'Creatinine Change_Creatinine Change_2': {'f1-score': 0.5744680851063829,\n",
              "  'precision': 0.40298507462686567,\n",
              "  'recall': 1.0,\n",
              "  'support': 216},\n",
              " 'Creatinine Change_Creatinine Change_3': {'f1-score': 0.0,\n",
              "  'precision': 0.0,\n",
              "  'recall': 0.0,\n",
              "  'support': 68},\n",
              " 'Creatinine Change_Creatinine Change_4': {'f1-score': 0.0,\n",
              "  'precision': 0.0,\n",
              "  'recall': 0.0,\n",
              "  'support': 129},\n",
              " 'Creatinine Change_Creatinine Change_5': {'f1-score': 0.0,\n",
              "  'precision': 0.0,\n",
              "  'recall': 0.0,\n",
              "  'support': 123},\n",
              " 'accuracy': 0.40298507462686567,\n",
              " 'macro avg': {'f1-score': 0.14361702127659573,\n",
              "  'precision': 0.10074626865671642,\n",
              "  'recall': 0.25,\n",
              "  'support': 536},\n",
              " 'weighted avg': {'f1-score': 0.23150206414734834,\n",
              "  'precision': 0.1623969703720205,\n",
              "  'recall': 0.40298507462686567,\n",
              "  'support': 536}}"
            ]
          },
          "metadata": {
            "tags": []
          },
          "execution_count": 127
        }
      ]
    },
    {
      "cell_type": "code",
      "metadata": {
        "id": "sCJrxQKHrhyQ",
        "colab_type": "code",
        "colab": {
          "base_uri": "https://localhost:8080/",
          "height": 34
        },
        "outputId": "3d88f95b-c6be-4cb5-ba94-8ab44794fe8f"
      },
      "source": [
        "roc, auc = roc_auc(bn, test, 'Creatinine Change')\n",
        "x_abs_Creatinine_Change = [roc[i][0] for i in range(len(roc))]\n",
        "y_abs_Creatinine_Change = [roc[i][1] for i in range(len(roc))]\n",
        "print(auc)"
      ],
      "execution_count": 77,
      "outputs": [
        {
          "output_type": "stream",
          "text": [
            "0.5\n"
          ],
          "name": "stdout"
        }
      ]
    },
    {
      "cell_type": "code",
      "metadata": {
        "id": "i7ZUMkYCz7r2",
        "colab_type": "code",
        "colab": {
          "base_uri": "https://localhost:8080/",
          "height": 510
        },
        "outputId": "1c3f3e49-1773-4bfd-e7f2-ab448dd96ce3"
      },
      "source": [
        "classification_report(bn, test, 'HCO3')"
      ],
      "execution_count": 128,
      "outputs": [
        {
          "output_type": "execute_result",
          "data": {
            "text/plain": [
              "{'HCO3_HCO3_1': {'f1-score': 0.0,\n",
              "  'precision': 0.0,\n",
              "  'recall': 0.0,\n",
              "  'support': 106},\n",
              " 'HCO3_HCO3_2': {'f1-score': 0.0,\n",
              "  'precision': 0.0,\n",
              "  'recall': 0.0,\n",
              "  'support': 78},\n",
              " 'HCO3_HCO3_3': {'f1-score': 0.0,\n",
              "  'precision': 0.0,\n",
              "  'recall': 0.0,\n",
              "  'support': 87},\n",
              " 'HCO3_HCO3_4': {'f1-score': 0.4441219158200291,\n",
              "  'precision': 0.28544776119402987,\n",
              "  'recall': 1.0,\n",
              "  'support': 153},\n",
              " 'HCO3_HCO3_5': {'f1-score': 0.0,\n",
              "  'precision': 0.0,\n",
              "  'recall': 0.0,\n",
              "  'support': 112},\n",
              " 'accuracy': 0.28544776119402987,\n",
              " 'macro avg': {'f1-score': 0.08882438316400582,\n",
              "  'precision': 0.05708955223880598,\n",
              "  'recall': 0.2,\n",
              "  'support': 536},\n",
              " 'weighted avg': {'f1-score': 0.1267736065680307,\n",
              "  'precision': 0.08148042437068391,\n",
              "  'recall': 0.28544776119402987,\n",
              "  'support': 536}}"
            ]
          },
          "metadata": {
            "tags": []
          },
          "execution_count": 128
        }
      ]
    },
    {
      "cell_type": "code",
      "metadata": {
        "id": "oz-yQFfzsmzq",
        "colab_type": "code",
        "colab": {
          "base_uri": "https://localhost:8080/",
          "height": 34
        },
        "outputId": "043c0576-e9ff-4069-a191-8e9c15ed0a2b"
      },
      "source": [
        "roc, auc = roc_auc(bn, test, 'HCO3')\n",
        "x_abs_HCO3 = [roc[i][0] for i in range(len(roc))]\n",
        "y_abs_HCO3 = [roc[i][1] for i in range(len(roc))]\n",
        "print(auc)"
      ],
      "execution_count": 78,
      "outputs": [
        {
          "output_type": "stream",
          "text": [
            "0.5643656716417911\n"
          ],
          "name": "stdout"
        }
      ]
    },
    {
      "cell_type": "code",
      "metadata": {
        "id": "zwX99UFDtN63",
        "colab_type": "code",
        "colab": {
          "base_uri": "https://localhost:8080/",
          "height": 585
        },
        "outputId": "ea49ee50-caf9-4b40-c2c7-f1aeaa055879"
      },
      "source": [
        "fig, axs = plt.subplots(nrows=2, ncols=2, figsize=(8, 8))\n",
        "\n",
        "x_rand = np.linspace(0, 1)\n",
        "y_rand = x_rand\n",
        "\n",
        "axs[0, 0].plot(x_abs_PaCO2, y_abs_PaCO2, color='red', \\\n",
        "  label='Model')\n",
        "axs[0, 0].plot(x_rand, y_rand, linestyle='--', color='k', label='Random Selection')\n",
        "axs[0, 0].set_xlabel('Specificity')\n",
        "axs[0, 0].set_ylabel('Sensitivity')\n",
        "axs[0, 0].set_title('PaCO2')\n",
        "\n",
        "axs[0, 1].plot(x_abs_HCO3, y_abs_HCO3, color='red', \\\n",
        "  label='Model')\n",
        "axs[0, 1].plot(x_rand, y_rand, linestyle='--', color='k', label='Random Selection')\n",
        "axs[0, 1].set_xlabel('Specificity')\n",
        "axs[0, 1].set_ylabel('Sensitivity')\n",
        "axs[0, 1].set_title('HCO3')\n",
        "\n",
        "axs[1, 0].plot(x_abs_Creatinine, y_abs_Creatinine, color='red', \\\n",
        "  label='Model')\n",
        "axs[1, 0].plot(x_rand, y_rand, linestyle='--', color='k', label='Random Selection')\n",
        "axs[1, 0].set_xlabel('Specificity')\n",
        "axs[1, 0].set_ylabel('Sensitivity')\n",
        "axs[1, 0].set_title('Creatinine')\n",
        "\n",
        "axs[1, 1].plot(x_abs_Creatinine_Change, y_abs_Creatinine_Change, color='red', \\\n",
        "  label='Model')\n",
        "axs[1, 1].plot(x_rand, y_rand, linestyle='--', color='k', label='Random Selection')\n",
        "axs[1, 1].set_xlabel('Specificity')\n",
        "axs[1, 1].set_ylabel('Sensitivity')\n",
        "axs[1, 1].set_title('Creatinine Change')\n",
        "\n",
        "axs[0, 0].legend()\n",
        "plt.tight_layout()\n",
        "plt.show()"
      ],
      "execution_count": 89,
      "outputs": [
        {
          "output_type": "display_data",
          "data": {
            "image/png": "[encoded data removed]",
            "text/plain": [
              "<Figure size 576x576 with 4 Axes>"
            ]
          },
          "metadata": {
            "tags": [],
            "needs_background": "light"
          }
        }
      ]
    },
    {
      "cell_type": "markdown",
      "metadata": {
        "id": "TjeEGbn001V7",
        "colab_type": "text"
      },
      "source": [
        "As suspected, our model is not robust although we note we can actually predict something for HCO3 (a collider) with this model."
      ]
    },
    {
      "cell_type": "markdown",
      "metadata": {
        "id": "p6PI0jtlv9vj",
        "colab_type": "text"
      },
      "source": [
        "## Manual SCM, Bayesian Network"
      ]
    },
    {
      "cell_type": "markdown",
      "metadata": {
        "id": "xmcKPwVc0G8j",
        "colab_type": "text"
      },
      "source": [
        "None of our models so far have been able to meaningfully predict for ARDS, so we create an SCM manually to see what we can find."
      ]
    },
    {
      "cell_type": "code",
      "metadata": {
        "id": "kgrqUL3v3N8q",
        "colab_type": "code",
        "colab": {}
      },
      "source": [
        "from causalnex.structure import StructureModel"
      ],
      "execution_count": 0,
      "outputs": []
    },
    {
      "cell_type": "code",
      "metadata": {
        "id": "56iPMc_42kuW",
        "colab_type": "code",
        "colab": {}
      },
      "source": [
        "sm_t = StructureModel()\n",
        "\n",
        "sm_t.add_edges_from([\n",
        "    ('GENDER', 'RSC'),\n",
        "    ('BMI', 'RSC'),\n",
        "    ('Driving_Pressure', 'RSC'),\n",
        "    ('RSC', 'ARDS')\n",
        "])"
      ],
      "execution_count": 0,
      "outputs": []
    },
    {
      "cell_type": "code",
      "metadata": {
        "id": "XuRHbJCR1OGd",
        "colab_type": "code",
        "colab": {}
      },
      "source": [
        "rem_list = list(sm_t.nodes)\n",
        "df_e_disc = df_e[rem_list]\n",
        "\n",
        "for col in df_e_disc:\n",
        "  df_e_disc[col] = Discretiser(method='quantile', \\\n",
        "  num_buckets=5).fit_transform(df_e_disc[col].values)\n",
        "\n",
        "  my_map = {}\n",
        "\n",
        "  for i in range(0, 5):\n",
        "    my_map[i] = col + '_' + str(i+1)\n",
        "\n",
        "  df_e_disc[col] = df_e_disc[col].map(my_map)"
      ],
      "execution_count": 0,
      "outputs": []
    },
    {
      "cell_type": "code",
      "metadata": {
        "id": "0lH2vf1t3kEK",
        "colab_type": "code",
        "colab": {}
      },
      "source": [
        "train, test = train_test_split(df_e_disc, train_size=0.9, \\\n",
        "  test_size=0.1, random_state=7)\n",
        "\n",
        "sm_t = sm_t.get_largest_subgraph()\n",
        "bn = BayesianNetwork(sm_t)\n",
        "bn = bn.fit_node_states(df_e_disc)\n",
        "bn = bn.fit_cpds(train, method=\"BayesianEstimator\", bayes_prior=\"K2\")"
      ],
      "execution_count": 0,
      "outputs": []
    },
    {
      "cell_type": "code",
      "metadata": {
        "id": "SSqt0IUn3aqp",
        "colab_type": "code",
        "colab": {
          "base_uri": "https://localhost:8080/",
          "height": 282
        },
        "outputId": "a7a6cde6-25c5-4528-b936-031309bb82c5"
      },
      "source": [
        "roc, auc = roc_auc(bn, test, 'ARDS')\n",
        "x_man_ARDS = [roc[i][0] for i in range(len(roc))]\n",
        "y_man_ARDS = [roc[i][1] for i in range(len(roc))]\n",
        "print(auc)\n",
        "\n",
        "plt.plot(x_man_ARDS, y_man_ARDS)\n",
        "plt.show()"
      ],
      "execution_count": 148,
      "outputs": [
        {
          "output_type": "stream",
          "text": [
            "0.5\n"
          ],
          "name": "stdout"
        },
        {
          "output_type": "display_data",
          "data": {
            "image/png": "[encoded data removed]",
            "text/plain": [
              "<Figure size 432x288 with 1 Axes>"
            ]
          },
          "metadata": {
            "tags": [],
            "needs_background": "light"
          }
        }
      ]
    },
    {
      "cell_type": "markdown",
      "metadata": {
        "id": "MIiX7XHt51S8",
        "colab_type": "text"
      },
      "source": [
        "We see things are similarly not useful but may consider other manual models."
      ]
    }
  ]
}